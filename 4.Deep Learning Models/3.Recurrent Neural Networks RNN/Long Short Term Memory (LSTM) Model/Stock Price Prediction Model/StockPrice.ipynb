{
 "cells": [
  {
   "cell_type": "code",
   "execution_count": 1,
   "metadata": {
    "executionInfo": {
     "elapsed": 14,
     "status": "ok",
     "timestamp": 1657924011102,
     "user": {
      "displayName": "Anurag yadav",
      "userId": "10500348746774854162"
     },
     "user_tz": 300
    },
    "id": "rhqeoCoWSHWa"
   },
   "outputs": [],
   "source": [
    "# Description: This program uses an artificial recurrent neural network called Long Short Term Memory (LSTM) to predict the closing stock price of a corporation using the past 60 day stock price."
   ]
  },
  {
   "cell_type": "code",
   "execution_count": 6,
   "metadata": {},
   "outputs": [],
   "source": [
    "#pip install pandas_datareader"
   ]
  },
  {
   "cell_type": "code",
   "execution_count": 7,
   "metadata": {
    "executionInfo": {
     "elapsed": 7550,
     "status": "ok",
     "timestamp": 1657924082608,
     "user": {
      "displayName": "Anurag yadav",
      "userId": "10500348746774854162"
     },
     "user_tz": 300
    },
    "id": "3_GJNVKMSHWf"
   },
   "outputs": [],
   "source": [
    "#Import the libraries\n",
    "import math\n",
    "from datetime import datetime\n",
    "import yfinance as yf\n",
    "import pandas_datareader.data as pdr\n",
    "import numpy as np\n",
    "import pandas as pd\n",
    "from sklearn.preprocessing import MinMaxScaler\n",
    "from keras.models import Sequential\n",
    "from keras.layers import Dense, LSTM, Dropout\n",
    "import matplotlib.pyplot as plt\n",
    "plt.style.use('fivethirtyeight')"
   ]
  },
  {
   "cell_type": "code",
   "execution_count": 9,
   "metadata": {
    "colab": {
     "base_uri": "https://localhost:8080/",
     "height": 472
    },
    "executionInfo": {
     "elapsed": 528,
     "status": "ok",
     "timestamp": 1657924086541,
     "user": {
      "displayName": "Anurag yadav",
      "userId": "10500348746774854162"
     },
     "user_tz": 300
    },
    "id": "vx-urltuTv__",
    "outputId": "fc496b2a-bf31-45f3-8320-9fa2743eb2a7"
   },
   "outputs": [
    {
     "name": "stdout",
     "output_type": "stream",
     "text": [
      "[*********************100%***********************]  1 of 1 completed\n"
     ]
    },
    {
     "data": {
      "text/html": [
       "<div>\n",
       "<style scoped>\n",
       "    .dataframe tbody tr th:only-of-type {\n",
       "        vertical-align: middle;\n",
       "    }\n",
       "\n",
       "    .dataframe tbody tr th {\n",
       "        vertical-align: top;\n",
       "    }\n",
       "\n",
       "    .dataframe thead th {\n",
       "        text-align: right;\n",
       "    }\n",
       "</style>\n",
       "<table border=\"1\" class=\"dataframe\">\n",
       "  <thead>\n",
       "    <tr style=\"text-align: right;\">\n",
       "      <th></th>\n",
       "      <th>Open</th>\n",
       "      <th>High</th>\n",
       "      <th>Low</th>\n",
       "      <th>Close</th>\n",
       "      <th>Adj Close</th>\n",
       "      <th>Volume</th>\n",
       "    </tr>\n",
       "    <tr>\n",
       "      <th>Date</th>\n",
       "      <th></th>\n",
       "      <th></th>\n",
       "      <th></th>\n",
       "      <th></th>\n",
       "      <th></th>\n",
       "      <th></th>\n",
       "    </tr>\n",
       "  </thead>\n",
       "  <tbody>\n",
       "    <tr>\n",
       "      <th>2000-01-03</th>\n",
       "      <td>8.309460</td>\n",
       "      <td>8.601414</td>\n",
       "      <td>8.202785</td>\n",
       "      <td>8.559305</td>\n",
       "      <td>2.041356</td>\n",
       "      <td>35678775</td>\n",
       "    </tr>\n",
       "    <tr>\n",
       "      <th>2000-01-04</th>\n",
       "      <td>8.427365</td>\n",
       "      <td>8.590185</td>\n",
       "      <td>8.031542</td>\n",
       "      <td>8.466666</td>\n",
       "      <td>2.019262</td>\n",
       "      <td>27698564</td>\n",
       "    </tr>\n",
       "    <tr>\n",
       "      <th>2000-01-05</th>\n",
       "      <td>8.118567</td>\n",
       "      <td>9.146021</td>\n",
       "      <td>8.118567</td>\n",
       "      <td>8.789500</td>\n",
       "      <td>2.096256</td>\n",
       "      <td>68399389</td>\n",
       "    </tr>\n",
       "    <tr>\n",
       "      <th>2000-01-06</th>\n",
       "      <td>8.924248</td>\n",
       "      <td>9.494120</td>\n",
       "      <td>8.924248</td>\n",
       "      <td>9.446396</td>\n",
       "      <td>2.252923</td>\n",
       "      <td>45604218</td>\n",
       "    </tr>\n",
       "    <tr>\n",
       "      <th>2000-01-07</th>\n",
       "      <td>9.735543</td>\n",
       "      <td>10.049955</td>\n",
       "      <td>9.336914</td>\n",
       "      <td>9.654133</td>\n",
       "      <td>2.302467</td>\n",
       "      <td>64862245</td>\n",
       "    </tr>\n",
       "    <tr>\n",
       "      <th>...</th>\n",
       "      <td>...</td>\n",
       "      <td>...</td>\n",
       "      <td>...</td>\n",
       "      <td>...</td>\n",
       "      <td>...</td>\n",
       "      <td>...</td>\n",
       "    </tr>\n",
       "    <tr>\n",
       "      <th>2022-07-29</th>\n",
       "      <td>103.000000</td>\n",
       "      <td>109.300003</td>\n",
       "      <td>102.150002</td>\n",
       "      <td>107.599998</td>\n",
       "      <td>107.599998</td>\n",
       "      <td>166959934</td>\n",
       "    </tr>\n",
       "    <tr>\n",
       "      <th>2022-08-01</th>\n",
       "      <td>110.500000</td>\n",
       "      <td>111.449997</td>\n",
       "      <td>106.150002</td>\n",
       "      <td>108.250000</td>\n",
       "      <td>108.250000</td>\n",
       "      <td>125365761</td>\n",
       "    </tr>\n",
       "    <tr>\n",
       "      <th>2022-08-02</th>\n",
       "      <td>108.000000</td>\n",
       "      <td>108.000000</td>\n",
       "      <td>105.349998</td>\n",
       "      <td>107.000000</td>\n",
       "      <td>107.000000</td>\n",
       "      <td>64935371</td>\n",
       "    </tr>\n",
       "    <tr>\n",
       "      <th>2022-08-03</th>\n",
       "      <td>107.000000</td>\n",
       "      <td>108.449997</td>\n",
       "      <td>106.000000</td>\n",
       "      <td>107.050003</td>\n",
       "      <td>107.050003</td>\n",
       "      <td>61428846</td>\n",
       "    </tr>\n",
       "    <tr>\n",
       "      <th>2022-08-04</th>\n",
       "      <td>107.500000</td>\n",
       "      <td>109.500000</td>\n",
       "      <td>106.050003</td>\n",
       "      <td>107.699997</td>\n",
       "      <td>107.699997</td>\n",
       "      <td>79526154</td>\n",
       "    </tr>\n",
       "  </tbody>\n",
       "</table>\n",
       "<p>5648 rows × 6 columns</p>\n",
       "</div>"
      ],
      "text/plain": [
       "                  Open        High         Low       Close   Adj Close  \\\n",
       "Date                                                                     \n",
       "2000-01-03    8.309460    8.601414    8.202785    8.559305    2.041356   \n",
       "2000-01-04    8.427365    8.590185    8.031542    8.466666    2.019262   \n",
       "2000-01-05    8.118567    9.146021    8.118567    8.789500    2.096256   \n",
       "2000-01-06    8.924248    9.494120    8.924248    9.446396    2.252923   \n",
       "2000-01-07    9.735543   10.049955    9.336914    9.654133    2.302467   \n",
       "...                ...         ...         ...         ...         ...   \n",
       "2022-07-29  103.000000  109.300003  102.150002  107.599998  107.599998   \n",
       "2022-08-01  110.500000  111.449997  106.150002  108.250000  108.250000   \n",
       "2022-08-02  108.000000  108.000000  105.349998  107.000000  107.000000   \n",
       "2022-08-03  107.000000  108.449997  106.000000  107.050003  107.050003   \n",
       "2022-08-04  107.500000  109.500000  106.050003  107.699997  107.699997   \n",
       "\n",
       "               Volume  \n",
       "Date                   \n",
       "2000-01-03   35678775  \n",
       "2000-01-04   27698564  \n",
       "2000-01-05   68399389  \n",
       "2000-01-06   45604218  \n",
       "2000-01-07   64862245  \n",
       "...               ...  \n",
       "2022-07-29  166959934  \n",
       "2022-08-01  125365761  \n",
       "2022-08-02   64935371  \n",
       "2022-08-03   61428846  \n",
       "2022-08-04   79526154  \n",
       "\n",
       "[5648 rows x 6 columns]"
      ]
     },
     "execution_count": 9,
     "metadata": {},
     "output_type": "execute_result"
    }
   ],
   "source": [
    "#Get the stock quote\n",
    "\n",
    "stock_name = \"TATASTEEL.NS\"\n",
    "start = datetime.strptime('2000-01-01', '%Y-%m-%d')\n",
    "end = datetime.strptime('2022-08-05', '%Y-%m-%d')\n",
    "yf.pdr_override()\n",
    "\n",
    "df = pdr.get_data_yahoo(stock_name, start, end)\n",
    "\n",
    "#Show the data \n",
    "df"
   ]
  },
  {
   "cell_type": "code",
   "execution_count": 10,
   "metadata": {
    "colab": {
     "base_uri": "https://localhost:8080/"
    },
    "executionInfo": {
     "elapsed": 134,
     "status": "ok",
     "timestamp": 1657924107846,
     "user": {
      "displayName": "Anurag yadav",
      "userId": "10500348746774854162"
     },
     "user_tz": 300
    },
    "id": "AGg3T0c2SHWh",
    "outputId": "de5cf756-c5a7-4276-c4b8-9f63103f20ab"
   },
   "outputs": [
    {
     "data": {
      "text/plain": [
       "(5648, 6)"
      ]
     },
     "execution_count": 10,
     "metadata": {},
     "output_type": "execute_result"
    }
   ],
   "source": [
    "#Get the number of rows and columns in the data set\n",
    "df.shape"
   ]
  },
  {
   "cell_type": "code",
   "execution_count": 11,
   "metadata": {
    "colab": {
     "base_uri": "https://localhost:8080/",
     "height": 437
    },
    "executionInfo": {
     "elapsed": 547,
     "status": "ok",
     "timestamp": 1657924109776,
     "user": {
      "displayName": "Anurag yadav",
      "userId": "10500348746774854162"
     },
     "user_tz": 300
    },
    "id": "-VQAF5cBSHWi",
    "outputId": "79bc2c85-a59a-42b0-c068-5eb48db1d589"
   },
   "outputs": [
    {
     "data": {
      "image/png": "[encoded data removed]",
      "text/plain": [
       "<Figure size 1152x648 with 1 Axes>"
      ]
     },
     "metadata": {},
     "output_type": "display_data"
    }
   ],
   "source": [
    "#Visualize the closing price history\n",
    "plt.figure(figsize=(16,9))\n",
    "plt.title('{} Close Price History ({} - {})'.format(stock_name, start, end))\n",
    "plt.plot(df['Close'])\n",
    "plt.xlabel('\\nDate',fontsize=18)\n",
    "plt.ylabel('Close Price USD ($)',fontsize=18)\n",
    "plt.show()"
   ]
  },
  {
   "cell_type": "code",
   "execution_count": 12,
   "metadata": {
    "colab": {
     "base_uri": "https://localhost:8080/"
    },
    "executionInfo": {
     "elapsed": 131,
     "status": "ok",
     "timestamp": 1657924113987,
     "user": {
      "displayName": "Anurag yadav",
      "userId": "10500348746774854162"
     },
     "user_tz": 300
    },
    "id": "AoYxfUfySHWj",
    "outputId": "971ad0b0-2bba-4361-e4b1-d07f67c7b156"
   },
   "outputs": [
    {
     "data": {
      "text/plain": [
       "5084"
      ]
     },
     "execution_count": 12,
     "metadata": {},
     "output_type": "execute_result"
    }
   ],
   "source": [
    "#Create a new dataframe with only the 'Close' column\n",
    "data = df.filter(['Close'])\n",
    "\n",
    "#Converting the dataframe to a numpy array\n",
    "dataset = data.values\n",
    "\n",
    "#Get /Compute the number of rows to train the model on\n",
    "training_data_len = math.ceil( len(dataset) *.90)\n",
    "\n",
    "training_data_len"
   ]
  },
  {
   "cell_type": "code",
   "execution_count": 13,
   "metadata": {
    "colab": {
     "base_uri": "https://localhost:8080/"
    },
    "executionInfo": {
     "elapsed": 196,
     "status": "ok",
     "timestamp": 1657924116424,
     "user": {
      "displayName": "Anurag yadav",
      "userId": "10500348746774854162"
     },
     "user_tz": 300
    },
    "id": "DtxnJwDoSHWk",
    "outputId": "a46bac5f-6e4a-4828-d4b3-4e3ff6abcb3e"
   },
   "outputs": [
    {
     "data": {
      "text/plain": [
       "array([[0.03033118],\n",
       "       [0.02974378],\n",
       "       [0.03179078],\n",
       "       ...,\n",
       "       [0.65451602],\n",
       "       [0.65483307],\n",
       "       [0.6589545 ]])"
      ]
     },
     "execution_count": 13,
     "metadata": {},
     "output_type": "execute_result"
    }
   ],
   "source": [
    "#Scale the all of the data to be values between 0 and 1 \n",
    "scaler = MinMaxScaler(feature_range=(0, 1)) \n",
    "scaled_data = scaler.fit_transform(dataset)\n",
    "\n",
    "scaled_data"
   ]
  },
  {
   "cell_type": "code",
   "execution_count": 14,
   "metadata": {
    "colab": {
     "base_uri": "https://localhost:8080/"
    },
    "executionInfo": {
     "elapsed": 175,
     "status": "ok",
     "timestamp": 1657924118163,
     "user": {
      "displayName": "Anurag yadav",
      "userId": "10500348746774854162"
     },
     "user_tz": 300
    },
    "id": "uUZQkBNQSHWl",
    "outputId": "3ae0bf05-5b84-451e-fcb9-9255c3e93bab"
   },
   "outputs": [
    {
     "name": "stdout",
     "output_type": "stream",
     "text": [
      "[array([0.03033118, 0.02974378, 0.03179078, 0.03595597, 0.03727317,\n",
      "       0.04093996, 0.03576017, 0.03490578, 0.03273417, 0.03255617,\n",
      "       0.03543977, 0.03757577, 0.03759357, 0.03412258, 0.03387337,\n",
      "       0.02986838, 0.02890718, 0.02890718, 0.02885378, 0.02750098,\n",
      "       0.02566758, 0.02607698, 0.02627278, 0.02589898, 0.02593458,\n",
      "       0.02554298, 0.02629058, 0.02746538, 0.02655758, 0.02597018,\n",
      "       0.02399438, 0.02296198, 0.02424358, 0.02442158, 0.02347818,\n",
      "       0.02346038, 0.02278398, 0.02189399, 0.02194738, 0.02180498,\n",
      "       0.02260598, 0.01897479, 0.01726599, 0.01710578, 0.01395519,\n",
      "       0.01267359, 0.01064439, 0.0085084 , 0.01025279, 0.00877539,\n",
      "       0.0082236 , 0.01080459, 0.01359919, 0.01488079, 0.01488079,\n",
      "       0.01488079, 0.01468499, 0.01505879, 0.01317199, 0.01374159])]\n",
      "[0.013082989027280507]\n",
      "\n",
      "[array([0.03033118, 0.02974378, 0.03179078, 0.03595597, 0.03727317,\n",
      "       0.04093996, 0.03576017, 0.03490578, 0.03273417, 0.03255617,\n",
      "       0.03543977, 0.03757577, 0.03759357, 0.03412258, 0.03387337,\n",
      "       0.02986838, 0.02890718, 0.02890718, 0.02885378, 0.02750098,\n",
      "       0.02566758, 0.02607698, 0.02627278, 0.02589898, 0.02593458,\n",
      "       0.02554298, 0.02629058, 0.02746538, 0.02655758, 0.02597018,\n",
      "       0.02399438, 0.02296198, 0.02424358, 0.02442158, 0.02347818,\n",
      "       0.02346038, 0.02278398, 0.02189399, 0.02194738, 0.02180498,\n",
      "       0.02260598, 0.01897479, 0.01726599, 0.01710578, 0.01395519,\n",
      "       0.01267359, 0.01064439, 0.0085084 , 0.01025279, 0.00877539,\n",
      "       0.0082236 , 0.01080459, 0.01359919, 0.01488079, 0.01488079,\n",
      "       0.01488079, 0.01468499, 0.01505879, 0.01317199, 0.01374159]), array([0.02974378, 0.03179078, 0.03595597, 0.03727317, 0.04093996,\n",
      "       0.03576017, 0.03490578, 0.03273417, 0.03255617, 0.03543977,\n",
      "       0.03757577, 0.03759357, 0.03412258, 0.03387337, 0.02986838,\n",
      "       0.02890718, 0.02890718, 0.02885378, 0.02750098, 0.02566758,\n",
      "       0.02607698, 0.02627278, 0.02589898, 0.02593458, 0.02554298,\n",
      "       0.02629058, 0.02746538, 0.02655758, 0.02597018, 0.02399438,\n",
      "       0.02296198, 0.02424358, 0.02442158, 0.02347818, 0.02346038,\n",
      "       0.02278398, 0.02189399, 0.02194738, 0.02180498, 0.02260598,\n",
      "       0.01897479, 0.01726599, 0.01710578, 0.01395519, 0.01267359,\n",
      "       0.01064439, 0.0085084 , 0.01025279, 0.00877539, 0.0082236 ,\n",
      "       0.01080459, 0.01359919, 0.01488079, 0.01488079, 0.01488079,\n",
      "       0.01468499, 0.01505879, 0.01317199, 0.01374159, 0.01308299])]\n",
      "[0.013082989027280507, 0.013919591933244518]\n",
      "\n"
     ]
    }
   ],
   "source": [
    "#Create the scaled training data set \n",
    "train_data = scaled_data[0:training_data_len  , : ]\n",
    "#Split the data into x_train and y_train data sets\n",
    "x_train=[]\n",
    "y_train = []\n",
    "for i in range(60,len(train_data)):\n",
    "    x_train.append(train_data[i-60:i,0])\n",
    "    y_train.append(train_data[i,0])\n",
    "    if i<= 61:\n",
    "        print(x_train)\n",
    "        print(y_train)\n",
    "        print()"
   ]
  },
  {
   "cell_type": "code",
   "execution_count": 15,
   "metadata": {
    "executionInfo": {
     "elapsed": 134,
     "status": "ok",
     "timestamp": 1657924121818,
     "user": {
      "displayName": "Anurag yadav",
      "userId": "10500348746774854162"
     },
     "user_tz": 300
    },
    "id": "WXi-gJNzSHWm"
   },
   "outputs": [],
   "source": [
    "#Convert x_train and y_train to numpy arrays\n",
    "x_train, y_train = np.array(x_train), np.array(y_train)"
   ]
  },
  {
   "cell_type": "code",
   "execution_count": 16,
   "metadata": {
    "colab": {
     "base_uri": "https://localhost:8080/"
    },
    "executionInfo": {
     "elapsed": 209,
     "status": "ok",
     "timestamp": 1657924122910,
     "user": {
      "displayName": "Anurag yadav",
      "userId": "10500348746774854162"
     },
     "user_tz": 300
    },
    "id": "FQG_njZESHWm",
    "outputId": "cf553508-cb7e-4b6f-df73-a2e9ac889ba3"
   },
   "outputs": [
    {
     "data": {
      "text/plain": [
       "(5024, 60, 1)"
      ]
     },
     "execution_count": 16,
     "metadata": {},
     "output_type": "execute_result"
    }
   ],
   "source": [
    "#Reshape the data into the shape accepted by the LSTM\n",
    "x_train = np.reshape(x_train, (x_train.shape[0],x_train.shape[1],1))\n",
    "x_train.shape"
   ]
  },
  {
   "cell_type": "code",
   "execution_count": 17,
   "metadata": {
    "executionInfo": {
     "elapsed": 1836,
     "status": "ok",
     "timestamp": 1657924132478,
     "user": {
      "displayName": "Anurag yadav",
      "userId": "10500348746774854162"
     },
     "user_tz": 300
    },
    "id": "U7EB00aFSHWn"
   },
   "outputs": [],
   "source": [
    "from keras.backend import dropout\n",
    "#Build the LSTM network model\n",
    "model = Sequential()\n",
    "model.add(LSTM(units=50, return_sequences=True,input_shape=(x_train.shape[1],1)))\n",
    "model.add(Dropout(0.2))\n",
    "\n",
    "model.add(LSTM(units=50, return_sequences=True))\n",
    "model.add(Dropout(0.2))\n",
    "\n",
    "model.add(LSTM(units=50, return_sequences=True))\n",
    "model.add(Dropout(0.2))\n",
    "\n",
    "model.add(LSTM(units=50, return_sequences=False))\n",
    "model.add(Dropout(0.2))\n",
    "\n",
    "model.add(Dense(units=1))"
   ]
  },
  {
   "cell_type": "code",
   "execution_count": 18,
   "metadata": {
    "executionInfo": {
     "elapsed": 126,
     "status": "ok",
     "timestamp": 1657924167645,
     "user": {
      "displayName": "Anurag yadav",
      "userId": "10500348746774854162"
     },
     "user_tz": 300
    },
    "id": "gkH5uHFKSHWn"
   },
   "outputs": [],
   "source": [
    "#Compile the model\n",
    "model.compile(optimizer='adam', loss='mean_squared_error')"
   ]
  },
  {
   "cell_type": "code",
   "execution_count": 19,
   "metadata": {
    "colab": {
     "base_uri": "https://localhost:8080/"
    },
    "executionInfo": {
     "elapsed": 526339,
     "status": "ok",
     "timestamp": 1657925337527,
     "user": {
      "displayName": "Anurag yadav",
      "userId": "10500348746774854162"
     },
     "user_tz": 300
    },
    "id": "57rbB6nISHWo",
    "outputId": "e0d6e3a6-b388-482c-ccc7-8c7450170425"
   },
   "outputs": [
    {
     "name": "stdout",
     "output_type": "stream",
     "text": [
      "Epoch 1/100\n",
      "157/157 [==============================] - 37s 140ms/step - loss: 0.0026\n",
      "Epoch 2/100\n",
      "157/157 [==============================] - 24s 156ms/step - loss: 0.0015\n",
      "Epoch 3/100\n",
      "157/157 [==============================] - 23s 149ms/step - loss: 0.0013\n",
      "Epoch 4/100\n",
      "157/157 [==============================] - 23s 148ms/step - loss: 0.0012\n",
      "Epoch 5/100\n",
      "157/157 [==============================] - 29s 185ms/step - loss: 0.0011\n",
      "Epoch 6/100\n",
      "157/157 [==============================] - 22s 137ms/step - loss: 0.0011\n",
      "Epoch 7/100\n",
      "157/157 [==============================] - 24s 151ms/step - loss: 9.9714e-04\n",
      "Epoch 8/100\n",
      "157/157 [==============================] - 24s 153ms/step - loss: 0.0010\n",
      "Epoch 9/100\n",
      "157/157 [==============================] - 24s 154ms/step - loss: 9.9035e-04\n",
      "Epoch 10/100\n",
      "157/157 [==============================] - 24s 156ms/step - loss: 9.1353e-04\n",
      "Epoch 11/100\n",
      "157/157 [==============================] - 24s 154ms/step - loss: 9.0432e-04\n",
      "Epoch 12/100\n",
      "157/157 [==============================] - 24s 154ms/step - loss: 8.9573e-04\n",
      "Epoch 13/100\n",
      "157/157 [==============================] - 23s 150ms/step - loss: 8.7590e-04\n",
      "Epoch 14/100\n",
      "157/157 [==============================] - 24s 152ms/step - loss: 8.4583e-04\n",
      "Epoch 15/100\n",
      "157/157 [==============================] - 23s 149ms/step - loss: 9.1088e-04\n",
      "Epoch 16/100\n",
      "157/157 [==============================] - 24s 150ms/step - loss: 8.3628e-04\n",
      "Epoch 17/100\n",
      "157/157 [==============================] - 24s 155ms/step - loss: 8.4877e-04\n",
      "Epoch 18/100\n",
      "157/157 [==============================] - 24s 155ms/step - loss: 8.3281e-04\n",
      "Epoch 19/100\n",
      "157/157 [==============================] - 24s 155ms/step - loss: 7.8316e-04\n",
      "Epoch 20/100\n",
      "157/157 [==============================] - 24s 154ms/step - loss: 8.0947e-04\n",
      "Epoch 21/100\n",
      "157/157 [==============================] - 22s 141ms/step - loss: 8.1224e-04\n",
      "Epoch 22/100\n",
      "157/157 [==============================] - 23s 147ms/step - loss: 7.9885e-04\n",
      "Epoch 23/100\n",
      "157/157 [==============================] - 24s 156ms/step - loss: 7.6382e-04\n",
      "Epoch 24/100\n",
      "157/157 [==============================] - 24s 155ms/step - loss: 7.8095e-04\n",
      "Epoch 25/100\n",
      "157/157 [==============================] - 25s 156ms/step - loss: 7.7153e-04\n",
      "Epoch 26/100\n",
      "157/157 [==============================] - 24s 155ms/step - loss: 7.5448e-04\n",
      "Epoch 27/100\n",
      "157/157 [==============================] - 25s 157ms/step - loss: 7.4771e-04\n",
      "Epoch 28/100\n",
      "157/157 [==============================] - 24s 154ms/step - loss: 7.2759e-04\n",
      "Epoch 29/100\n",
      "157/157 [==============================] - 25s 157ms/step - loss: 7.5675e-04\n",
      "Epoch 30/100\n",
      "157/157 [==============================] - 23s 149ms/step - loss: 7.5867e-04\n",
      "Epoch 31/100\n",
      "157/157 [==============================] - 24s 155ms/step - loss: 7.3329e-04\n",
      "Epoch 32/100\n",
      "157/157 [==============================] - 24s 152ms/step - loss: 7.0516e-04\n",
      "Epoch 33/100\n",
      "157/157 [==============================] - 22s 137ms/step - loss: 7.1921e-04\n",
      "Epoch 34/100\n",
      "157/157 [==============================] - 25s 157ms/step - loss: 7.4364e-04\n",
      "Epoch 35/100\n",
      "157/157 [==============================] - 24s 151ms/step - loss: 6.8630e-04\n",
      "Epoch 36/100\n",
      "157/157 [==============================] - 23s 146ms/step - loss: 7.0969e-04\n",
      "Epoch 37/100\n",
      "157/157 [==============================] - 23s 148ms/step - loss: 7.2217e-04\n",
      "Epoch 38/100\n",
      "157/157 [==============================] - 24s 155ms/step - loss: 7.4088e-04\n",
      "Epoch 39/100\n",
      "157/157 [==============================] - 25s 158ms/step - loss: 7.0459e-04\n",
      "Epoch 40/100\n",
      "157/157 [==============================] - 24s 155ms/step - loss: 6.9485e-04\n",
      "Epoch 41/100\n",
      "157/157 [==============================] - 25s 157ms/step - loss: 7.0128e-04\n",
      "Epoch 42/100\n",
      "157/157 [==============================] - 24s 154ms/step - loss: 6.8195e-04\n",
      "Epoch 43/100\n",
      "157/157 [==============================] - 24s 154ms/step - loss: 7.0984e-04\n",
      "Epoch 44/100\n",
      "157/157 [==============================] - 24s 151ms/step - loss: 6.7434e-04\n",
      "Epoch 45/100\n",
      "157/157 [==============================] - 24s 151ms/step - loss: 7.3796e-04\n",
      "Epoch 46/100\n",
      "157/157 [==============================] - 24s 152ms/step - loss: 7.0720e-04\n",
      "Epoch 47/100\n",
      "157/157 [==============================] - 24s 155ms/step - loss: 7.0735e-04\n",
      "Epoch 48/100\n",
      "157/157 [==============================] - 24s 154ms/step - loss: 6.7739e-04\n",
      "Epoch 49/100\n",
      "157/157 [==============================] - 24s 151ms/step - loss: 7.0050e-04\n",
      "Epoch 50/100\n",
      "157/157 [==============================] - 24s 152ms/step - loss: 6.9289e-04\n",
      "Epoch 51/100\n",
      "157/157 [==============================] - 24s 154ms/step - loss: 6.7801e-04\n",
      "Epoch 52/100\n",
      "157/157 [==============================] - 25s 157ms/step - loss: 6.9215e-04\n",
      "Epoch 53/100\n",
      "157/157 [==============================] - 25s 156ms/step - loss: 6.9629e-04\n",
      "Epoch 54/100\n",
      "157/157 [==============================] - 24s 154ms/step - loss: 6.9847e-04\n",
      "Epoch 55/100\n",
      "157/157 [==============================] - 24s 153ms/step - loss: 6.9087e-04\n",
      "Epoch 56/100\n",
      "157/157 [==============================] - 24s 153ms/step - loss: 6.8548e-04\n",
      "Epoch 57/100\n",
      "157/157 [==============================] - 24s 151ms/step - loss: 6.8342e-04\n",
      "Epoch 58/100\n",
      "157/157 [==============================] - 23s 149ms/step - loss: 6.7127e-04\n",
      "Epoch 59/100\n",
      "157/157 [==============================] - 24s 154ms/step - loss: 6.6584e-04\n",
      "Epoch 60/100\n",
      "157/157 [==============================] - 24s 153ms/step - loss: 7.1070e-04\n",
      "Epoch 61/100\n",
      "157/157 [==============================] - 24s 156ms/step - loss: 6.7929e-04\n",
      "Epoch 62/100\n",
      "157/157 [==============================] - 24s 156ms/step - loss: 6.8812e-04\n",
      "Epoch 63/100\n",
      "157/157 [==============================] - 23s 150ms/step - loss: 6.4582e-04\n",
      "Epoch 64/100\n",
      "157/157 [==============================] - 24s 155ms/step - loss: 6.8380e-04\n",
      "Epoch 65/100\n",
      "157/157 [==============================] - 24s 156ms/step - loss: 6.9092e-04\n",
      "Epoch 66/100\n",
      "157/157 [==============================] - 24s 155ms/step - loss: 6.6656e-04\n",
      "Epoch 67/100\n",
      "157/157 [==============================] - 24s 153ms/step - loss: 6.9765e-04\n",
      "Epoch 68/100\n",
      "157/157 [==============================] - 24s 153ms/step - loss: 6.6875e-04\n",
      "Epoch 69/100\n",
      "157/157 [==============================] - 23s 148ms/step - loss: 6.7857e-04\n",
      "Epoch 70/100\n",
      "157/157 [==============================] - 24s 155ms/step - loss: 6.6547e-04\n",
      "Epoch 71/100\n",
      "157/157 [==============================] - 24s 155ms/step - loss: 6.5274e-04\n",
      "Epoch 72/100\n",
      "157/157 [==============================] - 24s 154ms/step - loss: 6.5340e-04\n",
      "Epoch 73/100\n",
      "157/157 [==============================] - 25s 156ms/step - loss: 6.8399e-04\n",
      "Epoch 74/100\n",
      "157/157 [==============================] - 24s 152ms/step - loss: 6.7284e-04\n",
      "Epoch 75/100\n",
      "157/157 [==============================] - 25s 160ms/step - loss: 6.4819e-04\n",
      "Epoch 76/100\n",
      "157/157 [==============================] - 24s 156ms/step - loss: 6.6822e-04\n",
      "Epoch 77/100\n",
      "157/157 [==============================] - 25s 157ms/step - loss: 6.6742e-04\n",
      "Epoch 78/100\n",
      "157/157 [==============================] - 25s 156ms/step - loss: 6.6283e-04\n",
      "Epoch 79/100\n",
      "157/157 [==============================] - 24s 156ms/step - loss: 6.4811e-04\n",
      "Epoch 80/100\n",
      "157/157 [==============================] - 24s 154ms/step - loss: 6.4406e-04\n",
      "Epoch 81/100\n",
      "157/157 [==============================] - 24s 156ms/step - loss: 6.6586e-04\n",
      "Epoch 82/100\n",
      "157/157 [==============================] - 25s 157ms/step - loss: 6.3236e-04\n",
      "Epoch 83/100\n",
      "157/157 [==============================] - 24s 156ms/step - loss: 6.5611e-04\n",
      "Epoch 84/100\n",
      "157/157 [==============================] - 24s 154ms/step - loss: 6.5317e-04\n",
      "Epoch 85/100\n",
      "157/157 [==============================] - 24s 151ms/step - loss: 6.4254e-04\n",
      "Epoch 86/100\n",
      "157/157 [==============================] - 25s 157ms/step - loss: 6.4622e-04\n",
      "Epoch 87/100\n",
      "157/157 [==============================] - 25s 157ms/step - loss: 6.4977e-04\n",
      "Epoch 88/100\n",
      "157/157 [==============================] - 25s 157ms/step - loss: 6.5361e-04\n",
      "Epoch 89/100\n",
      "157/157 [==============================] - 25s 157ms/step - loss: 6.3839e-04\n",
      "Epoch 90/100\n",
      "157/157 [==============================] - 24s 151ms/step - loss: 6.5289e-04\n",
      "Epoch 91/100\n",
      "157/157 [==============================] - 23s 144ms/step - loss: 6.5690e-04\n",
      "Epoch 92/100\n"
     ]
    },
    {
     "name": "stdout",
     "output_type": "stream",
     "text": [
      "157/157 [==============================] - 24s 154ms/step - loss: 6.4383e-04\n",
      "Epoch 93/100\n",
      "157/157 [==============================] - 24s 154ms/step - loss: 6.4211e-04\n",
      "Epoch 94/100\n",
      "157/157 [==============================] - 20s 129ms/step - loss: 6.5887e-04\n",
      "Epoch 95/100\n",
      "157/157 [==============================] - 223s 1s/step - loss: 6.8023e-04\n",
      "Epoch 96/100\n",
      "157/157 [==============================] - 24s 150ms/step - loss: 6.6468e-04\n",
      "Epoch 97/100\n",
      "157/157 [==============================] - 18s 113ms/step - loss: 6.3914e-04\n",
      "Epoch 98/100\n",
      "157/157 [==============================] - 14s 86ms/step - loss: 6.5238e-04\n",
      "Epoch 99/100\n",
      "157/157 [==============================] - 13s 85ms/step - loss: 6.4755e-04\n",
      "Epoch 100/100\n",
      "157/157 [==============================] - 16s 100ms/step - loss: 6.4266e-04\n"
     ]
    },
    {
     "data": {
      "text/plain": [
       "<keras.callbacks.History at 0x1ccb7031970>"
      ]
     },
     "execution_count": 19,
     "metadata": {},
     "output_type": "execute_result"
    }
   ],
   "source": [
    "#Train the model\n",
    "model.fit(x_train, y_train, batch_size=32, epochs=100)"
   ]
  },
  {
   "cell_type": "code",
   "execution_count": null,
   "metadata": {
    "executionInfo": {
     "elapsed": 149,
     "status": "ok",
     "timestamp": 1657925370617,
     "user": {
      "displayName": "Anurag yadav",
      "userId": "10500348746774854162"
     },
     "user_tz": 300
    },
    "id": "R1Y3lkNuSHWo"
   },
   "outputs": [],
   "source": [
    "#Test data set\n",
    "test_data = scaled_data[training_data_len - 60: , : ]\n",
    "#Create the x_test and y_test data sets\n",
    "x_test = []\n",
    "y_test =  dataset[training_data_len : , : ] \n",
    "#Get all of the rows from index 1603 to the rest and all of the columns (in this case it's only column 'Close'), so 2003 - 1603 = 400 rows of data\n",
    "for i in range(60,len(test_data)):\n",
    "    x_test.append(test_data[i-60:i,0])"
   ]
  },
  {
   "cell_type": "code",
   "execution_count": null,
   "metadata": {
    "executionInfo": {
     "elapsed": 125,
     "status": "ok",
     "timestamp": 1657925372728,
     "user": {
      "displayName": "Anurag yadav",
      "userId": "10500348746774854162"
     },
     "user_tz": 300
    },
    "id": "H5E0n2WLSHWp"
   },
   "outputs": [],
   "source": [
    "#Convert x_test to a numpy array \n",
    "x_test = np.array(x_test)"
   ]
  },
  {
   "cell_type": "code",
   "execution_count": null,
   "metadata": {
    "executionInfo": {
     "elapsed": 123,
     "status": "ok",
     "timestamp": 1657925373692,
     "user": {
      "displayName": "Anurag yadav",
      "userId": "10500348746774854162"
     },
     "user_tz": 300
    },
    "id": "bzU2CwRUSHWp"
   },
   "outputs": [],
   "source": [
    "#Reshape the data into the shape accepted by the LSTM\n",
    "x_test = np.reshape(x_test, (x_test.shape[0],x_test.shape[1],1))"
   ]
  },
  {
   "cell_type": "code",
   "execution_count": null,
   "metadata": {
    "executionInfo": {
     "elapsed": 2877,
     "status": "ok",
     "timestamp": 1657925378574,
     "user": {
      "displayName": "Anurag yadav",
      "userId": "10500348746774854162"
     },
     "user_tz": 300
    },
    "id": "NWYnBerQSHWp"
   },
   "outputs": [],
   "source": [
    "#Getting the models predicted price values\n",
    "predictions = model.predict(x_test) \n",
    "predictions = scaler.inverse_transform(predictions)#Undo scaling"
   ]
  },
  {
   "cell_type": "code",
   "execution_count": null,
   "metadata": {
    "colab": {
     "base_uri": "https://localhost:8080/"
    },
    "executionInfo": {
     "elapsed": 106,
     "status": "ok",
     "timestamp": 1657925380508,
     "user": {
      "displayName": "Anurag yadav",
      "userId": "10500348746774854162"
     },
     "user_tz": 300
    },
    "id": "m4Qlck7ESHWq",
    "outputId": "9152ff67-ef34-407d-a5c2-4c0e46c2cc85"
   },
   "outputs": [],
   "source": [
    "#Calculate/Get the value of RMSE\n",
    "rmse=np.sqrt(np.mean(((predictions- y_test)**2)))\n",
    "rmse"
   ]
  },
  {
   "cell_type": "code",
   "execution_count": null,
   "metadata": {
    "colab": {
     "base_uri": "https://localhost:8080/",
     "height": 384
    },
    "executionInfo": {
     "elapsed": 457,
     "status": "ok",
     "timestamp": 1657925392790,
     "user": {
      "displayName": "Anurag yadav",
      "userId": "10500348746774854162"
     },
     "user_tz": 300
    },
    "id": "RQb_CvoVSHWq",
    "outputId": "1a226064-9bee-482c-ecb1-ae89b83c7f87"
   },
   "outputs": [],
   "source": [
    "import pandas as pd\n",
    "pd.options.mode.chained_assignment = None  # default='warn'\n",
    "\n",
    "#Plot/Create the data for the graph\n",
    "train = data[:training_data_len]\n",
    "valid = data[training_data_len:]\n",
    "valid['Predictions'] = predictions\n",
    "\n",
    "#Visualize the data\n",
    "plt.figure(figsize=(16,8))\n",
    "plt.title('Stock Price Prediction Model for {}'.format(stock_name))\n",
    "plt.xlabel('Date', fontsize=18)\n",
    "plt.ylabel('Close Price USD ($)', fontsize=18)\n",
    "plt.plot(train['Close'])\n",
    "plt.plot(valid[['Close', 'Predictions']])\n",
    "plt.legend(['Train', 'Val', 'Predictions'], loc='upper left')\n",
    "plt.show()"
   ]
  },
  {
   "cell_type": "code",
   "execution_count": null,
   "metadata": {
    "colab": {
     "base_uri": "https://localhost:8080/",
     "height": 455
    },
    "executionInfo": {
     "elapsed": 128,
     "status": "ok",
     "timestamp": 1657925433851,
     "user": {
      "displayName": "Anurag yadav",
      "userId": "10500348746774854162"
     },
     "user_tz": 300
    },
    "id": "pvnNTLwTSHWr",
    "outputId": "ad6915cb-1416-4c9d-cc81-bf47d4a083e3"
   },
   "outputs": [],
   "source": [
    "#Show the valid and predicted prices\n",
    "valid"
   ]
  },
  {
   "cell_type": "code",
   "execution_count": null,
   "metadata": {
    "colab": {
     "base_uri": "https://localhost:8080/"
    },
    "executionInfo": {
     "elapsed": 611,
     "status": "ok",
     "timestamp": 1657925523726,
     "user": {
      "displayName": "Anurag yadav",
      "userId": "10500348746774854162"
     },
     "user_tz": 300
    },
    "id": "IDqu4FteSHWr",
    "outputId": "842383fb-e774-4c06-bba1-bfe4008ffdb0"
   },
   "outputs": [],
   "source": [
    "Test_stock_name = \"TATASTEEL.NS\"\n",
    "Test_start = datetime.strptime('2000-01-01', '%Y-%m-%d')\n",
    "Test_end = datetime.strptime('2022-07-16', '%Y-%m-%d')\n",
    "yf.pdr_override()\n",
    "\n",
    "#Get the quote\n",
    "quote = pdr.get_data_yahoo(Test_stock_name, Test_start, Test_end)\n",
    "\n",
    "#Create a new dataframe\n",
    "new_df = quote.filter(['Close'])\n",
    "\n",
    "#Get the last 60 day closing price \n",
    "last_60_days = new_df[-60:].values\n",
    "\n",
    "#Scale the data to be values between 0 and 1\n",
    "last_60_days_scaled = scaler.transform(last_60_days)\n",
    "\n",
    "#Create an empty list\n",
    "X_test = []\n",
    "\n",
    "#Append teh past 60 days\n",
    "X_test.append(last_60_days_scaled)\n",
    "\n",
    "#Convert the X_test data set to a numpy array\n",
    "X_test = np.array(X_test)\n",
    "\n",
    "#Reshape the data\n",
    "X_test = np.reshape(X_test, (X_test.shape[0], X_test.shape[1], 1))\n",
    "\n",
    "#Get the predicted scaled price\n",
    "pred_price = model.predict(X_test)\n",
    "\n",
    "#undo the scaling \n",
    "pred_price = scaler.inverse_transform(pred_price)\n",
    "print(\"Tomorrow's Closing Price will be \" , pred_price)"
   ]
  },
  {
   "cell_type": "code",
   "execution_count": null,
   "metadata": {
    "id": "C-ITArO2SHWs"
   },
   "outputs": [],
   "source": []
  }
 ],
 "metadata": {
  "colab": {
   "name": "StockPrice.ipynb",
   "provenance": []
  },
  "kernelspec": {
   "display_name": "Python 3 (ipykernel)",
   "language": "python",
   "name": "python3"
  },
  "language_info": {
   "codemirror_mode": {
    "name": "ipython",
    "version": 3
   },
   "file_extension": ".py",
   "mimetype": "text/x-python",
   "name": "python",
   "nbconvert_exporter": "python",
   "pygments_lexer": "ipython3",
   "version": "3.9.12"
  }
 },
 "nbformat": 4,
 "nbformat_minor": 1
}
