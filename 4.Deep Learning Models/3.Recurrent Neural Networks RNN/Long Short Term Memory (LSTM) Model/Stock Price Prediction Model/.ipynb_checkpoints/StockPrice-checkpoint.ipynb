{
 "cells": [
  {
   "cell_type": "code",
   "execution_count": 1,
   "metadata": {
    "executionInfo": {
     "elapsed": 14,
     "status": "ok",
     "timestamp": 1657924011102,
     "user": {
      "displayName": "Anurag yadav",
      "userId": "10500348746774854162"
     },
     "user_tz": 300
    },
    "id": "rhqeoCoWSHWa"
   },
   "outputs": [],
   "source": [
    "# Description: This program uses an artificial recurrent neural network called Long Short Term Memory (LSTM) to predict the closing stock price of a corporation using the past 60 day stock price."
   ]
  },
  {
   "cell_type": "code",
   "execution_count": null,
   "metadata": {},
   "outputs": [],
   "source": [
    "pip install yfinance"
   ]
  },
  {
   "cell_type": "code",
   "execution_count": 2,
   "metadata": {
    "executionInfo": {
     "elapsed": 7550,
     "status": "ok",
     "timestamp": 1657924082608,
     "user": {
      "displayName": "Anurag yadav",
      "userId": "10500348746774854162"
     },
     "user_tz": 300
    },
    "id": "3_GJNVKMSHWf"
   },
   "outputs": [
    {
     "ename": "ModuleNotFoundError",
     "evalue": "No module named 'yfinance'",
     "output_type": "error",
     "traceback": [
      "\u001b[1;31m---------------------------------------------------------------------------\u001b[0m",
      "\u001b[1;31mModuleNotFoundError\u001b[0m                       Traceback (most recent call last)",
      "Input \u001b[1;32mIn [2]\u001b[0m, in \u001b[0;36m<cell line: 4>\u001b[1;34m()\u001b[0m\n\u001b[0;32m      2\u001b[0m \u001b[38;5;28;01mimport\u001b[39;00m \u001b[38;5;21;01mmath\u001b[39;00m\n\u001b[0;32m      3\u001b[0m \u001b[38;5;28;01mfrom\u001b[39;00m \u001b[38;5;21;01mdatetime\u001b[39;00m \u001b[38;5;28;01mimport\u001b[39;00m datetime\n\u001b[1;32m----> 4\u001b[0m \u001b[38;5;28;01mimport\u001b[39;00m \u001b[38;5;21;01myfinance\u001b[39;00m \u001b[38;5;28;01mas\u001b[39;00m \u001b[38;5;21;01myf\u001b[39;00m\n\u001b[0;32m      5\u001b[0m \u001b[38;5;28;01mimport\u001b[39;00m \u001b[38;5;21;01mpandas_datareader\u001b[39;00m\u001b[38;5;21;01m.\u001b[39;00m\u001b[38;5;21;01mdata\u001b[39;00m \u001b[38;5;28;01mas\u001b[39;00m \u001b[38;5;21;01mpdr\u001b[39;00m\n\u001b[0;32m      6\u001b[0m \u001b[38;5;28;01mimport\u001b[39;00m \u001b[38;5;21;01mnumpy\u001b[39;00m \u001b[38;5;28;01mas\u001b[39;00m \u001b[38;5;21;01mnp\u001b[39;00m\n",
      "\u001b[1;31mModuleNotFoundError\u001b[0m: No module named 'yfinance'"
     ]
    }
   ],
   "source": [
    "#Import the libraries\n",
    "import math\n",
    "from datetime import datetime\n",
    "import yfinance as yf\n",
    "import pandas_datareader.data as pdr\n",
    "import numpy as np\n",
    "import pandas as pd\n",
    "from sklearn.preprocessing import MinMaxScaler\n",
    "from keras.models import Sequential\n",
    "from keras.layers import Dense, LSTM, Dropout\n",
    "import matplotlib.pyplot as plt\n",
    "plt.style.use('fivethirtyeight')"
   ]
  },
  {
   "cell_type": "code",
   "execution_count": null,
   "metadata": {
    "colab": {
     "base_uri": "https://localhost:8080/",
     "height": 472
    },
    "executionInfo": {
     "elapsed": 528,
     "status": "ok",
     "timestamp": 1657924086541,
     "user": {
      "displayName": "Anurag yadav",
      "userId": "10500348746774854162"
     },
     "user_tz": 300
    },
    "id": "vx-urltuTv__",
    "outputId": "fc496b2a-bf31-45f3-8320-9fa2743eb2a7"
   },
   "outputs": [],
   "source": [
    "#Get the stock quote\n",
    "\n",
    "stock_name = \"TATASTEEL.NS\"\n",
    "start = datetime.strptime('2000-01-01', '%Y-%m-%d')\n",
    "end = datetime.strptime('2022-07-15', '%Y-%m-%d')\n",
    "yf.pdr_override()\n",
    "\n",
    "df = pdr.get_data_yahoo(stock_name, start, end)\n",
    "\n",
    "#Show the data \n",
    "df"
   ]
  },
  {
   "cell_type": "code",
   "execution_count": null,
   "metadata": {
    "colab": {
     "base_uri": "https://localhost:8080/"
    },
    "executionInfo": {
     "elapsed": 134,
     "status": "ok",
     "timestamp": 1657924107846,
     "user": {
      "displayName": "Anurag yadav",
      "userId": "10500348746774854162"
     },
     "user_tz": 300
    },
    "id": "AGg3T0c2SHWh",
    "outputId": "de5cf756-c5a7-4276-c4b8-9f63103f20ab"
   },
   "outputs": [],
   "source": [
    "#Get the number of rows and columns in the data set\n",
    "df.shape"
   ]
  },
  {
   "cell_type": "code",
   "execution_count": null,
   "metadata": {
    "colab": {
     "base_uri": "https://localhost:8080/",
     "height": 437
    },
    "executionInfo": {
     "elapsed": 547,
     "status": "ok",
     "timestamp": 1657924109776,
     "user": {
      "displayName": "Anurag yadav",
      "userId": "10500348746774854162"
     },
     "user_tz": 300
    },
    "id": "-VQAF5cBSHWi",
    "outputId": "79bc2c85-a59a-42b0-c068-5eb48db1d589"
   },
   "outputs": [],
   "source": [
    "#Visualize the closing price history\n",
    "plt.figure(figsize=(16,9))\n",
    "plt.title('{} Close Price History ({} - {})'.format(stock_name, start, end))\n",
    "plt.plot(df['Close'])\n",
    "plt.xlabel('\\nDate',fontsize=18)\n",
    "plt.ylabel('Close Price USD ($)',fontsize=18)\n",
    "plt.show()"
   ]
  },
  {
   "cell_type": "code",
   "execution_count": null,
   "metadata": {
    "colab": {
     "base_uri": "https://localhost:8080/"
    },
    "executionInfo": {
     "elapsed": 131,
     "status": "ok",
     "timestamp": 1657924113987,
     "user": {
      "displayName": "Anurag yadav",
      "userId": "10500348746774854162"
     },
     "user_tz": 300
    },
    "id": "AoYxfUfySHWj",
    "outputId": "971ad0b0-2bba-4361-e4b1-d07f67c7b156"
   },
   "outputs": [],
   "source": [
    "#Create a new dataframe with only the 'Close' column\n",
    "data = df.filter(['Close'])\n",
    "\n",
    "#Converting the dataframe to a numpy array\n",
    "dataset = data.values\n",
    "\n",
    "#Get /Compute the number of rows to train the model on\n",
    "training_data_len = math.ceil( len(dataset) *.90)\n",
    "\n",
    "training_data_len"
   ]
  },
  {
   "cell_type": "code",
   "execution_count": null,
   "metadata": {
    "colab": {
     "base_uri": "https://localhost:8080/"
    },
    "executionInfo": {
     "elapsed": 196,
     "status": "ok",
     "timestamp": 1657924116424,
     "user": {
      "displayName": "Anurag yadav",
      "userId": "10500348746774854162"
     },
     "user_tz": 300
    },
    "id": "DtxnJwDoSHWk",
    "outputId": "a46bac5f-6e4a-4828-d4b3-4e3ff6abcb3e"
   },
   "outputs": [],
   "source": [
    "#Scale the all of the data to be values between 0 and 1 \n",
    "scaler = MinMaxScaler(feature_range=(0, 1)) \n",
    "scaled_data = scaler.fit_transform(dataset)\n",
    "\n",
    "scaled_data"
   ]
  },
  {
   "cell_type": "code",
   "execution_count": null,
   "metadata": {
    "colab": {
     "base_uri": "https://localhost:8080/"
    },
    "executionInfo": {
     "elapsed": 175,
     "status": "ok",
     "timestamp": 1657924118163,
     "user": {
      "displayName": "Anurag yadav",
      "userId": "10500348746774854162"
     },
     "user_tz": 300
    },
    "id": "uUZQkBNQSHWl",
    "outputId": "3ae0bf05-5b84-451e-fcb9-9255c3e93bab"
   },
   "outputs": [],
   "source": [
    "#Create the scaled training data set \n",
    "train_data = scaled_data[0:training_data_len  , : ]\n",
    "#Split the data into x_train and y_train data sets\n",
    "x_train=[]\n",
    "y_train = []\n",
    "for i in range(60,len(train_data)):\n",
    "    x_train.append(train_data[i-60:i,0])\n",
    "    y_train.append(train_data[i,0])\n",
    "    if i<= 61:\n",
    "        print(x_train)\n",
    "        print(y_train)\n",
    "        print()"
   ]
  },
  {
   "cell_type": "code",
   "execution_count": null,
   "metadata": {
    "executionInfo": {
     "elapsed": 134,
     "status": "ok",
     "timestamp": 1657924121818,
     "user": {
      "displayName": "Anurag yadav",
      "userId": "10500348746774854162"
     },
     "user_tz": 300
    },
    "id": "WXi-gJNzSHWm"
   },
   "outputs": [],
   "source": [
    "#Convert x_train and y_train to numpy arrays\n",
    "x_train, y_train = np.array(x_train), np.array(y_train)"
   ]
  },
  {
   "cell_type": "code",
   "execution_count": null,
   "metadata": {
    "colab": {
     "base_uri": "https://localhost:8080/"
    },
    "executionInfo": {
     "elapsed": 209,
     "status": "ok",
     "timestamp": 1657924122910,
     "user": {
      "displayName": "Anurag yadav",
      "userId": "10500348746774854162"
     },
     "user_tz": 300
    },
    "id": "FQG_njZESHWm",
    "outputId": "cf553508-cb7e-4b6f-df73-a2e9ac889ba3"
   },
   "outputs": [],
   "source": [
    "#Reshape the data into the shape accepted by the LSTM\n",
    "x_train = np.reshape(x_train, (x_train.shape[0],x_train.shape[1],1))\n",
    "x_train.shape"
   ]
  },
  {
   "cell_type": "code",
   "execution_count": null,
   "metadata": {
    "executionInfo": {
     "elapsed": 1836,
     "status": "ok",
     "timestamp": 1657924132478,
     "user": {
      "displayName": "Anurag yadav",
      "userId": "10500348746774854162"
     },
     "user_tz": 300
    },
    "id": "U7EB00aFSHWn"
   },
   "outputs": [],
   "source": [
    "from keras.backend import dropout\n",
    "#Build the LSTM network model\n",
    "model = Sequential()\n",
    "model.add(LSTM(units=50, return_sequences=True,input_shape=(x_train.shape[1],1)))\n",
    "model.add(Dropout(0.2))\n",
    "\n",
    "model.add(LSTM(units=50, return_sequences=True))\n",
    "model.add(Dropout(0.2))\n",
    "\n",
    "model.add(LSTM(units=50, return_sequences=True))\n",
    "model.add(Dropout(0.2))\n",
    "\n",
    "model.add(LSTM(units=50, return_sequences=False))\n",
    "model.add(Dropout(0.2))\n",
    "\n",
    "model.add(Dense(units=1))"
   ]
  },
  {
   "cell_type": "code",
   "execution_count": null,
   "metadata": {
    "executionInfo": {
     "elapsed": 126,
     "status": "ok",
     "timestamp": 1657924167645,
     "user": {
      "displayName": "Anurag yadav",
      "userId": "10500348746774854162"
     },
     "user_tz": 300
    },
    "id": "gkH5uHFKSHWn"
   },
   "outputs": [],
   "source": [
    "#Compile the model\n",
    "model.compile(optimizer='adam', loss='mean_squared_error')"
   ]
  },
  {
   "cell_type": "code",
   "execution_count": null,
   "metadata": {
    "colab": {
     "base_uri": "https://localhost:8080/"
    },
    "executionInfo": {
     "elapsed": 526339,
     "status": "ok",
     "timestamp": 1657925337527,
     "user": {
      "displayName": "Anurag yadav",
      "userId": "10500348746774854162"
     },
     "user_tz": 300
    },
    "id": "57rbB6nISHWo",
    "outputId": "e0d6e3a6-b388-482c-ccc7-8c7450170425"
   },
   "outputs": [],
   "source": [
    "#Train the model\n",
    "model.fit(x_train, y_train, batch_size=32, epochs=100)"
   ]
  },
  {
   "cell_type": "code",
   "execution_count": null,
   "metadata": {
    "executionInfo": {
     "elapsed": 149,
     "status": "ok",
     "timestamp": 1657925370617,
     "user": {
      "displayName": "Anurag yadav",
      "userId": "10500348746774854162"
     },
     "user_tz": 300
    },
    "id": "R1Y3lkNuSHWo"
   },
   "outputs": [],
   "source": [
    "#Test data set\n",
    "test_data = scaled_data[training_data_len - 60: , : ]\n",
    "#Create the x_test and y_test data sets\n",
    "x_test = []\n",
    "y_test =  dataset[training_data_len : , : ] \n",
    "#Get all of the rows from index 1603 to the rest and all of the columns (in this case it's only column 'Close'), so 2003 - 1603 = 400 rows of data\n",
    "for i in range(60,len(test_data)):\n",
    "    x_test.append(test_data[i-60:i,0])"
   ]
  },
  {
   "cell_type": "code",
   "execution_count": null,
   "metadata": {
    "executionInfo": {
     "elapsed": 125,
     "status": "ok",
     "timestamp": 1657925372728,
     "user": {
      "displayName": "Anurag yadav",
      "userId": "10500348746774854162"
     },
     "user_tz": 300
    },
    "id": "H5E0n2WLSHWp"
   },
   "outputs": [],
   "source": [
    "#Convert x_test to a numpy array \n",
    "x_test = np.array(x_test)"
   ]
  },
  {
   "cell_type": "code",
   "execution_count": null,
   "metadata": {
    "executionInfo": {
     "elapsed": 123,
     "status": "ok",
     "timestamp": 1657925373692,
     "user": {
      "displayName": "Anurag yadav",
      "userId": "10500348746774854162"
     },
     "user_tz": 300
    },
    "id": "bzU2CwRUSHWp"
   },
   "outputs": [],
   "source": [
    "#Reshape the data into the shape accepted by the LSTM\n",
    "x_test = np.reshape(x_test, (x_test.shape[0],x_test.shape[1],1))"
   ]
  },
  {
   "cell_type": "code",
   "execution_count": null,
   "metadata": {
    "executionInfo": {
     "elapsed": 2877,
     "status": "ok",
     "timestamp": 1657925378574,
     "user": {
      "displayName": "Anurag yadav",
      "userId": "10500348746774854162"
     },
     "user_tz": 300
    },
    "id": "NWYnBerQSHWp"
   },
   "outputs": [],
   "source": [
    "#Getting the models predicted price values\n",
    "predictions = model.predict(x_test) \n",
    "predictions = scaler.inverse_transform(predictions)#Undo scaling"
   ]
  },
  {
   "cell_type": "code",
   "execution_count": null,
   "metadata": {
    "colab": {
     "base_uri": "https://localhost:8080/"
    },
    "executionInfo": {
     "elapsed": 106,
     "status": "ok",
     "timestamp": 1657925380508,
     "user": {
      "displayName": "Anurag yadav",
      "userId": "10500348746774854162"
     },
     "user_tz": 300
    },
    "id": "m4Qlck7ESHWq",
    "outputId": "9152ff67-ef34-407d-a5c2-4c0e46c2cc85"
   },
   "outputs": [],
   "source": [
    "#Calculate/Get the value of RMSE\n",
    "rmse=np.sqrt(np.mean(((predictions- y_test)**2)))\n",
    "rmse"
   ]
  },
  {
   "cell_type": "code",
   "execution_count": null,
   "metadata": {
    "colab": {
     "base_uri": "https://localhost:8080/",
     "height": 384
    },
    "executionInfo": {
     "elapsed": 457,
     "status": "ok",
     "timestamp": 1657925392790,
     "user": {
      "displayName": "Anurag yadav",
      "userId": "10500348746774854162"
     },
     "user_tz": 300
    },
    "id": "RQb_CvoVSHWq",
    "outputId": "1a226064-9bee-482c-ecb1-ae89b83c7f87"
   },
   "outputs": [],
   "source": [
    "import pandas as pd\n",
    "pd.options.mode.chained_assignment = None  # default='warn'\n",
    "\n",
    "#Plot/Create the data for the graph\n",
    "train = data[:training_data_len]\n",
    "valid = data[training_data_len:]\n",
    "valid['Predictions'] = predictions\n",
    "\n",
    "#Visualize the data\n",
    "plt.figure(figsize=(16,8))\n",
    "plt.title('Stock Price Prediction Model for {}'.format(stock_name))\n",
    "plt.xlabel('Date', fontsize=18)\n",
    "plt.ylabel('Close Price USD ($)', fontsize=18)\n",
    "plt.plot(train['Close'])\n",
    "plt.plot(valid[['Close', 'Predictions']])\n",
    "plt.legend(['Train', 'Val', 'Predictions'], loc='upper left')\n",
    "plt.show()"
   ]
  },
  {
   "cell_type": "code",
   "execution_count": null,
   "metadata": {
    "colab": {
     "base_uri": "https://localhost:8080/",
     "height": 455
    },
    "executionInfo": {
     "elapsed": 128,
     "status": "ok",
     "timestamp": 1657925433851,
     "user": {
      "displayName": "Anurag yadav",
      "userId": "10500348746774854162"
     },
     "user_tz": 300
    },
    "id": "pvnNTLwTSHWr",
    "outputId": "ad6915cb-1416-4c9d-cc81-bf47d4a083e3"
   },
   "outputs": [],
   "source": [
    "#Show the valid and predicted prices\n",
    "valid"
   ]
  },
  {
   "cell_type": "code",
   "execution_count": null,
   "metadata": {
    "colab": {
     "base_uri": "https://localhost:8080/"
    },
    "executionInfo": {
     "elapsed": 611,
     "status": "ok",
     "timestamp": 1657925523726,
     "user": {
      "displayName": "Anurag yadav",
      "userId": "10500348746774854162"
     },
     "user_tz": 300
    },
    "id": "IDqu4FteSHWr",
    "outputId": "842383fb-e774-4c06-bba1-bfe4008ffdb0"
   },
   "outputs": [],
   "source": [
    "Test_stock_name = \"TATASTEEL.NS\"\n",
    "Test_start = datetime.strptime('2000-01-01', '%Y-%m-%d')\n",
    "Test_end = datetime.strptime('2022-07-16', '%Y-%m-%d')\n",
    "yf.pdr_override()\n",
    "\n",
    "#Get the quote\n",
    "quote = pdr.get_data_yahoo(Test_stock_name, Test_start, Test_end)\n",
    "\n",
    "#Create a new dataframe\n",
    "new_df = quote.filter(['Close'])\n",
    "\n",
    "#Get the last 60 day closing price \n",
    "last_60_days = new_df[-60:].values\n",
    "\n",
    "#Scale the data to be values between 0 and 1\n",
    "last_60_days_scaled = scaler.transform(last_60_days)\n",
    "\n",
    "#Create an empty list\n",
    "X_test = []\n",
    "\n",
    "#Append teh past 60 days\n",
    "X_test.append(last_60_days_scaled)\n",
    "\n",
    "#Convert the X_test data set to a numpy array\n",
    "X_test = np.array(X_test)\n",
    "\n",
    "#Reshape the data\n",
    "X_test = np.reshape(X_test, (X_test.shape[0], X_test.shape[1], 1))\n",
    "\n",
    "#Get the predicted scaled price\n",
    "pred_price = model.predict(X_test)\n",
    "\n",
    "#undo the scaling \n",
    "pred_price = scaler.inverse_transform(pred_price)\n",
    "print(\"Tomorrow's Closing Price will be \" , pred_price)"
   ]
  },
  {
   "cell_type": "code",
   "execution_count": null,
   "metadata": {
    "id": "C-ITArO2SHWs"
   },
   "outputs": [],
   "source": []
  }
 ],
 "metadata": {
  "colab": {
   "name": "StockPrice.ipynb",
   "provenance": []
  },
  "kernelspec": {
   "display_name": "Python 3 (ipykernel)",
   "language": "python",
   "name": "python3"
  },
  "language_info": {
   "codemirror_mode": {
    "name": "ipython",
    "version": 3
   },
   "file_extension": ".py",
   "mimetype": "text/x-python",
   "name": "python",
   "nbconvert_exporter": "python",
   "pygments_lexer": "ipython3",
   "version": "3.9.12"
  }
 },
 "nbformat": 4,
 "nbformat_minor": 1
}
