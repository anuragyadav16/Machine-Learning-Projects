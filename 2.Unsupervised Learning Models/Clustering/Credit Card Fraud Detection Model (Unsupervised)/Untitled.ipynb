{
 "cells": [
  {
   "cell_type": "markdown",
   "id": "689ce37e",
   "metadata": {},
   "source": [
    "### Importing Required Libraries"
   ]
  },
  {
   "cell_type": "code",
   "execution_count": 1,
   "id": "56b23aaa",
   "metadata": {},
   "outputs": [],
   "source": [
    "import numpy as np\n",
    "import pandas as pd\n",
    "import sklearn\n",
    "import scipy\n",
    "import matplotlib.pyplot as plt\n",
    "import seaborn as sns\n",
    "from sklearn.metrics import classification_report,accuracy_score\n",
    "from sklearn.ensemble import IsolationForest\n",
    "from sklearn.neighbors import LocalOutlierFactor\n",
    "from sklearn.svm import OneClassSVM\n",
    "from sklearn.covariance import EllipticEnvelope\n",
    "from pylab import rcParams\n",
    "#rcParams['figure.figsize'] = 14, 8\n",
    "RANDOM_SEED = np.random.RandomState(42)\n",
    "LABELS = [\"Normal\", \"Fraud\"]"
   ]
  },
  {
   "cell_type": "markdown",
   "id": "e8ca0ff8",
   "metadata": {},
   "source": [
    "## Importing Dataset"
   ]
  },
  {
   "cell_type": "markdown",
   "id": "66dcbca0",
   "metadata": {},
   "source": [
    "The dataset contains transactions made by credit cards in September 2013 by European cardholders.\n",
    "This dataset presents transactions that occurred in two days, where we have 492 frauds out of 284,807 transactions. The dataset is highly unbalanced, the positive class (frauds) account for 0.172% of all transactions.\n",
    "\n",
    "It contains only numerical input variables which are the result of a PCA transformation. Unfortunately, due to confidentiality issues, we cannot provide the original features and more background information about the data. Features V1, V2, … V28 are the principal components obtained with PCA, the only features which have not been transformed with PCA are 'Time' and 'Amount'. Feature 'Time' contains the seconds elapsed between each transaction and the first transaction in the dataset. The feature 'Amount' is the transaction Amount, this feature can be used for example-dependant cost-sensitive learning. Feature 'Class' is the response variable and it takes value 1 in case of fraud and 0 otherwise.\n",
    "\n",
    "Link: https://www.kaggle.com/datasets/mlg-ulb/creditcardfraud?resource=download"
   ]
  },
  {
   "cell_type": "code",
   "execution_count": 2,
   "id": "03ca510c",
   "metadata": {},
   "outputs": [
    {
     "data": {
      "text/html": [
       "<div>\n",
       "<style scoped>\n",
       "    .dataframe tbody tr th:only-of-type {\n",
       "        vertical-align: middle;\n",
       "    }\n",
       "\n",
       "    .dataframe tbody tr th {\n",
       "        vertical-align: top;\n",
       "    }\n",
       "\n",
       "    .dataframe thead th {\n",
       "        text-align: right;\n",
       "    }\n",
       "</style>\n",
       "<table border=\"1\" class=\"dataframe\">\n",
       "  <thead>\n",
       "    <tr style=\"text-align: right;\">\n",
       "      <th></th>\n",
       "      <th>Time</th>\n",
       "      <th>V1</th>\n",
       "      <th>V2</th>\n",
       "      <th>V3</th>\n",
       "      <th>V4</th>\n",
       "      <th>V5</th>\n",
       "      <th>V6</th>\n",
       "      <th>V7</th>\n",
       "      <th>V8</th>\n",
       "      <th>V9</th>\n",
       "      <th>...</th>\n",
       "      <th>V21</th>\n",
       "      <th>V22</th>\n",
       "      <th>V23</th>\n",
       "      <th>V24</th>\n",
       "      <th>V25</th>\n",
       "      <th>V26</th>\n",
       "      <th>V27</th>\n",
       "      <th>V28</th>\n",
       "      <th>Amount</th>\n",
       "      <th>Class</th>\n",
       "    </tr>\n",
       "  </thead>\n",
       "  <tbody>\n",
       "    <tr>\n",
       "      <th>0</th>\n",
       "      <td>0.0</td>\n",
       "      <td>-1.359807</td>\n",
       "      <td>-0.072781</td>\n",
       "      <td>2.536347</td>\n",
       "      <td>1.378155</td>\n",
       "      <td>-0.338321</td>\n",
       "      <td>0.462388</td>\n",
       "      <td>0.239599</td>\n",
       "      <td>0.098698</td>\n",
       "      <td>0.363787</td>\n",
       "      <td>...</td>\n",
       "      <td>-0.018307</td>\n",
       "      <td>0.277838</td>\n",
       "      <td>-0.110474</td>\n",
       "      <td>0.066928</td>\n",
       "      <td>0.128539</td>\n",
       "      <td>-0.189115</td>\n",
       "      <td>0.133558</td>\n",
       "      <td>-0.021053</td>\n",
       "      <td>149.62</td>\n",
       "      <td>0</td>\n",
       "    </tr>\n",
       "    <tr>\n",
       "      <th>1</th>\n",
       "      <td>0.0</td>\n",
       "      <td>1.191857</td>\n",
       "      <td>0.266151</td>\n",
       "      <td>0.166480</td>\n",
       "      <td>0.448154</td>\n",
       "      <td>0.060018</td>\n",
       "      <td>-0.082361</td>\n",
       "      <td>-0.078803</td>\n",
       "      <td>0.085102</td>\n",
       "      <td>-0.255425</td>\n",
       "      <td>...</td>\n",
       "      <td>-0.225775</td>\n",
       "      <td>-0.638672</td>\n",
       "      <td>0.101288</td>\n",
       "      <td>-0.339846</td>\n",
       "      <td>0.167170</td>\n",
       "      <td>0.125895</td>\n",
       "      <td>-0.008983</td>\n",
       "      <td>0.014724</td>\n",
       "      <td>2.69</td>\n",
       "      <td>0</td>\n",
       "    </tr>\n",
       "    <tr>\n",
       "      <th>2</th>\n",
       "      <td>1.0</td>\n",
       "      <td>-1.358354</td>\n",
       "      <td>-1.340163</td>\n",
       "      <td>1.773209</td>\n",
       "      <td>0.379780</td>\n",
       "      <td>-0.503198</td>\n",
       "      <td>1.800499</td>\n",
       "      <td>0.791461</td>\n",
       "      <td>0.247676</td>\n",
       "      <td>-1.514654</td>\n",
       "      <td>...</td>\n",
       "      <td>0.247998</td>\n",
       "      <td>0.771679</td>\n",
       "      <td>0.909412</td>\n",
       "      <td>-0.689281</td>\n",
       "      <td>-0.327642</td>\n",
       "      <td>-0.139097</td>\n",
       "      <td>-0.055353</td>\n",
       "      <td>-0.059752</td>\n",
       "      <td>378.66</td>\n",
       "      <td>0</td>\n",
       "    </tr>\n",
       "    <tr>\n",
       "      <th>3</th>\n",
       "      <td>1.0</td>\n",
       "      <td>-0.966272</td>\n",
       "      <td>-0.185226</td>\n",
       "      <td>1.792993</td>\n",
       "      <td>-0.863291</td>\n",
       "      <td>-0.010309</td>\n",
       "      <td>1.247203</td>\n",
       "      <td>0.237609</td>\n",
       "      <td>0.377436</td>\n",
       "      <td>-1.387024</td>\n",
       "      <td>...</td>\n",
       "      <td>-0.108300</td>\n",
       "      <td>0.005274</td>\n",
       "      <td>-0.190321</td>\n",
       "      <td>-1.175575</td>\n",
       "      <td>0.647376</td>\n",
       "      <td>-0.221929</td>\n",
       "      <td>0.062723</td>\n",
       "      <td>0.061458</td>\n",
       "      <td>123.50</td>\n",
       "      <td>0</td>\n",
       "    </tr>\n",
       "    <tr>\n",
       "      <th>4</th>\n",
       "      <td>2.0</td>\n",
       "      <td>-1.158233</td>\n",
       "      <td>0.877737</td>\n",
       "      <td>1.548718</td>\n",
       "      <td>0.403034</td>\n",
       "      <td>-0.407193</td>\n",
       "      <td>0.095921</td>\n",
       "      <td>0.592941</td>\n",
       "      <td>-0.270533</td>\n",
       "      <td>0.817739</td>\n",
       "      <td>...</td>\n",
       "      <td>-0.009431</td>\n",
       "      <td>0.798278</td>\n",
       "      <td>-0.137458</td>\n",
       "      <td>0.141267</td>\n",
       "      <td>-0.206010</td>\n",
       "      <td>0.502292</td>\n",
       "      <td>0.219422</td>\n",
       "      <td>0.215153</td>\n",
       "      <td>69.99</td>\n",
       "      <td>0</td>\n",
       "    </tr>\n",
       "  </tbody>\n",
       "</table>\n",
       "<p>5 rows × 31 columns</p>\n",
       "</div>"
      ],
      "text/plain": [
       "   Time        V1        V2        V3        V4        V5        V6        V7  \\\n",
       "0   0.0 -1.359807 -0.072781  2.536347  1.378155 -0.338321  0.462388  0.239599   \n",
       "1   0.0  1.191857  0.266151  0.166480  0.448154  0.060018 -0.082361 -0.078803   \n",
       "2   1.0 -1.358354 -1.340163  1.773209  0.379780 -0.503198  1.800499  0.791461   \n",
       "3   1.0 -0.966272 -0.185226  1.792993 -0.863291 -0.010309  1.247203  0.237609   \n",
       "4   2.0 -1.158233  0.877737  1.548718  0.403034 -0.407193  0.095921  0.592941   \n",
       "\n",
       "         V8        V9  ...       V21       V22       V23       V24       V25  \\\n",
       "0  0.098698  0.363787  ... -0.018307  0.277838 -0.110474  0.066928  0.128539   \n",
       "1  0.085102 -0.255425  ... -0.225775 -0.638672  0.101288 -0.339846  0.167170   \n",
       "2  0.247676 -1.514654  ...  0.247998  0.771679  0.909412 -0.689281 -0.327642   \n",
       "3  0.377436 -1.387024  ... -0.108300  0.005274 -0.190321 -1.175575  0.647376   \n",
       "4 -0.270533  0.817739  ... -0.009431  0.798278 -0.137458  0.141267 -0.206010   \n",
       "\n",
       "        V26       V27       V28  Amount  Class  \n",
       "0 -0.189115  0.133558 -0.021053  149.62      0  \n",
       "1  0.125895 -0.008983  0.014724    2.69      0  \n",
       "2 -0.139097 -0.055353 -0.059752  378.66      0  \n",
       "3 -0.221929  0.062723  0.061458  123.50      0  \n",
       "4  0.502292  0.219422  0.215153   69.99      0  \n",
       "\n",
       "[5 rows x 31 columns]"
      ]
     },
     "execution_count": 2,
     "metadata": {},
     "output_type": "execute_result"
    }
   ],
   "source": [
    "CCTransactions = pd.read_csv('creditcard.csv',sep=',')\n",
    "CCTransactions.head()"
   ]
  },
  {
   "cell_type": "markdown",
   "id": "5b309a2d",
   "metadata": {},
   "source": [
    "## Exploratory Data Analysis"
   ]
  },
  {
   "cell_type": "code",
   "execution_count": 3,
   "id": "2e7ad49a",
   "metadata": {},
   "outputs": [
    {
     "data": {
      "text/plain": [
       "False"
      ]
     },
     "execution_count": 3,
     "metadata": {},
     "output_type": "execute_result"
    }
   ],
   "source": [
    "CCTransactions.isnull().sum().any()"
   ]
  },
  {
   "cell_type": "code",
   "execution_count": 4,
   "id": "277f1dbe",
   "metadata": {},
   "outputs": [
    {
     "name": "stdout",
     "output_type": "stream",
     "text": [
      "\n",
      "Normal Transactions :  284315  ==> 99.827  Percent\n",
      "\n",
      "Fraudulent Transactions :  492  ==> 0.173  Percent\n",
      "\n",
      "\n"
     ]
    },
    {
     "data": {
      "image/png": "[encoded data removed]",
      "text/plain": [
       "<Figure size 432x288 with 1 Axes>"
      ]
     },
     "metadata": {},
     "output_type": "display_data"
    }
   ],
   "source": [
    "# Visualizing Class Distribution\n",
    "\n",
    "Total_transactions = CCTransactions[\"Class\"].value_counts()[0] + CCTransactions[\"Class\"].value_counts()[1]\n",
    "Norm_per = (CCTransactions[\"Class\"].value_counts()[0] / Total_transactions) * 100\n",
    "Fraud_per = (CCTransactions[\"Class\"].value_counts()[1] / Total_transactions) * 100\n",
    "\n",
    "print(\"\\nNormal Transactions : \",CCTransactions[\"Class\"].value_counts()[0],\" ==>\", \"%.3f\" % Norm_per,\" Percent\\n\")\n",
    "print(\"Fraudulent Transactions : \",CCTransactions[\"Class\"].value_counts()[1],\" ==>\", \"%.3f\" % Fraud_per,\" Percent\\n\\n\")\n",
    "\n",
    "sns.set_theme(style=\"darkgrid\")\n",
    "sns.set(font_scale = 2)\n",
    "count = sns.countplot(x=\"Class\", data=CCTransactions)\n",
    "plt.title(\"Transaction Class Distribution\")\n",
    "plt.xticks(range(2), LABELS)\n",
    "plt.xlabel(\"Class\")\n",
    "plt.ylabel(\"Occurrences\")\n",
    "plt.show()"
   ]
  },
  {
   "cell_type": "code",
   "execution_count": 5,
   "id": "c82531ef",
   "metadata": {},
   "outputs": [
    {
     "name": "stdout",
     "output_type": "stream",
     "text": [
      "Normal Transactions : (284315, 31) \n",
      "\n",
      "Fraudulent Transactions : (492, 31)\n"
     ]
    }
   ],
   "source": [
    "## Creating Separate Dataframes for different Classes\n",
    "\n",
    "Normal = CCTransactions[CCTransactions['Class']==0]\n",
    "\n",
    "Fraud = CCTransactions[CCTransactions['Class']==1]\n",
    "\n",
    "print(\"Normal Transactions :\", Normal.shape,\"\\n\")\n",
    "print(\"Fraudulent Transactions :\", Fraud.shape)"
   ]
  },
  {
   "cell_type": "code",
   "execution_count": 6,
   "id": "73f0431b",
   "metadata": {},
   "outputs": [
    {
     "name": "stdout",
     "output_type": "stream",
     "text": [
      "count     492.000000\n",
      "mean      122.211321\n",
      "std       256.683288\n",
      "min         0.000000\n",
      "25%         1.000000\n",
      "50%         9.250000\n",
      "75%       105.890000\n",
      "max      2125.870000\n",
      "Name: Amount, dtype: float64\n"
     ]
    }
   ],
   "source": [
    "## We need to analyze more amount of information from the transaction data\n",
    "#How different are the amount of money used in different transaction classes?\n",
    "print(Fraud[\"Amount\"].describe())"
   ]
  },
  {
   "cell_type": "code",
   "execution_count": 7,
   "id": "ee1bb665",
   "metadata": {},
   "outputs": [
    {
     "name": "stdout",
     "output_type": "stream",
     "text": [
      "count    284315.000000\n",
      "mean         88.291022\n",
      "std         250.105092\n",
      "min           0.000000\n",
      "25%           5.650000\n",
      "50%          22.000000\n",
      "75%          77.050000\n",
      "max       25691.160000\n",
      "Name: Amount, dtype: float64\n"
     ]
    }
   ],
   "source": [
    "print(Normal[\"Amount\"].describe())"
   ]
  },
  {
   "cell_type": "code",
   "execution_count": 8,
   "id": "996aaca6",
   "metadata": {},
   "outputs": [
    {
     "data": {
      "text/plain": [
       "(28481, 31)"
      ]
     },
     "execution_count": 8,
     "metadata": {},
     "output_type": "execute_result"
    }
   ],
   "source": [
    "## Using Fraction of Data to Build Our Model\n",
    "\n",
    "Sample_df= CCTransactions.sample(frac = 0.10,random_state=RANDOM_SEED)\n",
    "\n",
    "Sample_df.shape"
   ]
  },
  {
   "cell_type": "code",
   "execution_count": 9,
   "id": "17bf171c",
   "metadata": {},
   "outputs": [
    {
     "name": "stdout",
     "output_type": "stream",
     "text": [
      "Contamination Fraction : 0.001615\n",
      "Fraud Cases      : 46\n",
      "Normal Cases     : 28435\n"
     ]
    }
   ],
   "source": [
    "#Determine the number of fraud and valid transactions in the dataset\n",
    "\n",
    "Sampled_Fraud = Sample_df[Sample_df['Class']==1]\n",
    "\n",
    "Sampled_Normal = Sample_df[Sample_df['Class']==0]\n",
    "\n",
    "Contamination_Fraction = float(\"%.6f\" %(len(Sampled_Fraud)/float(len(Sampled_Normal)+len(Sampled_Fraud))))\n",
    "\n",
    "print(\"Contamination Fraction :\",Contamination_Fraction)\n",
    "\n",
    "print(\"Fraud Cases      : {}\".format(len(Sampled_Fraud)))\n",
    "\n",
    "print(\"Normal Cases     : {}\".format(len(Sampled_Normal)))"
   ]
  },
  {
   "cell_type": "code",
   "execution_count": 10,
   "id": "f835c190",
   "metadata": {},
   "outputs": [
    {
     "data": {
      "text/plain": [
       "Class     1.000000\n",
       "V11       0.157269\n",
       "V4        0.132388\n",
       "V2        0.079756\n",
       "V21       0.052675\n",
       "V19       0.049521\n",
       "V20       0.024607\n",
       "Amount    0.019044\n",
       "V8        0.016033\n",
       "V23       0.015739\n",
       "V27       0.008926\n",
       "Name: Class, dtype: float64"
      ]
     },
     "execution_count": 10,
     "metadata": {},
     "output_type": "execute_result"
    }
   ],
   "source": [
    "#Looking for Top 10 correlated features\n",
    "\n",
    "corr_matrix = Sample_df.corr()\n",
    "corr_result=corr_matrix['Class'].sort_values(ascending=False).head(11)\n",
    "corr_result"
   ]
  },
  {
   "cell_type": "code",
   "execution_count": 11,
   "id": "6b46324d",
   "metadata": {},
   "outputs": [
    {
     "name": "stdout",
     "output_type": "stream",
     "text": [
      "Train    : (28481, 30)\n",
      "Target     : (28481,)\n"
     ]
    }
   ],
   "source": [
    "#Desired Independent Features\n",
    "Feature_name = []\n",
    "for col in Sample_df.columns:\n",
    "    if col != \"Class\":\n",
    "        Feature_name.append(col)\n",
    "    else:\n",
    "        continue\n",
    "\n",
    "#Desired Target Variable\n",
    "Target_name = \"Class\"\n",
    "\n",
    "# Defining Independent and Dependent Variables\n",
    "X = Sample_df[Feature_name]\n",
    "y = Sample_df[Target_name]\n",
    "\n",
    "# Print the shapes\n",
    "print(\"Train    :\",X.shape)\n",
    "print(\"Target     :\",y.shape)"
   ]
  },
  {
   "cell_type": "markdown",
   "id": "619a22dd",
   "metadata": {},
   "source": [
    "## Model Prediction"
   ]
  },
  {
   "cell_type": "code",
   "execution_count": 12,
   "id": "1347e2e3",
   "metadata": {},
   "outputs": [],
   "source": [
    "#Define \"classifiers\" to be used\n",
    "\n",
    "Classifiers = {\n",
    "    \"Isolation Forest\":IsolationForest(n_estimators=100, \n",
    "                                       max_samples=len(X),\n",
    "                                       contamination=Contamination_Fraction, \n",
    "                                       verbose=0, \n",
    "                                       random_state=RANDOM_SEED),\n",
    "    \n",
    "    \"Local Outlier Factor\":LocalOutlierFactor(n_neighbors=20, \n",
    "                                              algorithm='auto',\n",
    "                                              leaf_size=30, \n",
    "                                              metric='minkowski',\n",
    "                                              p=2, \n",
    "                                              metric_params=None, \n",
    "                                              contamination=Contamination_Fraction),\n",
    "    \n",
    "    \"Empirical Covariance\":EllipticEnvelope(store_precision=True,\n",
    "                                            assume_centered=False,\n",
    "                                            support_fraction=0.8,\n",
    "                                            contamination=Contamination_Fraction,\n",
    "                                            random_state=RANDOM_SEED),\n",
    "    \n",
    "    \"Support Vector Machine\":OneClassSVM(kernel='rbf', \n",
    "                                         degree=3, \n",
    "                                         gamma=0.1,\n",
    "                                         nu=0.05, \n",
    "                                         max_iter=-1)\n",
    "}"
   ]
  },
  {
   "cell_type": "code",
   "execution_count": 13,
   "id": "285834c0",
   "metadata": {
    "scrolled": false
   },
   "outputs": [
    {
     "name": "stdout",
     "output_type": "stream",
     "text": [
      "Isolation Forest: 64\n",
      "Accuracy Score :\n",
      "0.9977528878901724\n",
      "Classification Report :\n",
      "              precision    recall  f1-score   support\n",
      "\n",
      "           0       1.00      1.00      1.00     28435\n",
      "           1       0.30      0.30      0.30        46\n",
      "\n",
      "    accuracy                           1.00     28481\n",
      "   macro avg       0.65      0.65      0.65     28481\n",
      "weighted avg       1.00      1.00      1.00     28481\n",
      "\n",
      "Local Outlier Factor: 90\n",
      "Accuracy Score :\n",
      "0.9968399985955549\n",
      "Classification Report :\n",
      "              precision    recall  f1-score   support\n",
      "\n",
      "           0       1.00      1.00      1.00     28435\n",
      "           1       0.02      0.02      0.02        46\n",
      "\n",
      "    accuracy                           1.00     28481\n",
      "   macro avg       0.51      0.51      0.51     28481\n",
      "weighted avg       1.00      1.00      1.00     28481\n",
      "\n",
      "Empirical Covariance: 70\n",
      "Accuracy Score :\n",
      "0.997542221129876\n",
      "Classification Report :\n",
      "              precision    recall  f1-score   support\n",
      "\n",
      "           0       1.00      1.00      1.00     28435\n",
      "           1       0.24      0.24      0.24        46\n",
      "\n",
      "    accuracy                           1.00     28481\n",
      "   macro avg       0.62      0.62      0.62     28481\n",
      "weighted avg       1.00      1.00      1.00     28481\n",
      "\n",
      "Support Vector Machine: 9526\n",
      "Accuracy Score :\n",
      "0.6655314069028475\n",
      "Classification Report :\n",
      "              precision    recall  f1-score   support\n",
      "\n",
      "           0       1.00      0.67      0.80     28435\n",
      "           1       0.00      0.28      0.00        46\n",
      "\n",
      "    accuracy                           0.67     28481\n",
      "   macro avg       0.50      0.47      0.40     28481\n",
      "weighted avg       1.00      0.67      0.80     28481\n",
      "\n"
     ]
    }
   ],
   "source": [
    "import warnings\n",
    "warnings.filterwarnings(\"ignore\")\n",
    "\n",
    "for i, (Key,model) in enumerate(Classifiers.items()):\n",
    "    \n",
    "    #Fit the data and tag outliers\n",
    "    \n",
    "    if Key == \"Isolation Forest\":\n",
    "        model.fit(X)\n",
    "        scores_prediction = model.decision_function(X)\n",
    "        y_pred = model.predict(X)\n",
    "    \n",
    "    #Unsupervised Outlier Detection using Local Outlier Factor (LOF).\n",
    "    elif Key == \"Local Outlier Factor\":\n",
    "        y_pred = model.fit_predict(X)\n",
    "        scores_prediction = model.negative_outlier_factor_\n",
    "        \n",
    "    #An object for detecting outliers in a Gaussian distributed dataset.\n",
    "    elif Key == \"Empirical Covariance\":\n",
    "        model.fit(X)\n",
    "        y_pred = model.predict(X)\n",
    "    \n",
    "    #Unsupervised Outlier Detection. Estimate the support of a high-dimensional distribution. The implementation is based on libsvm.\n",
    "    elif Key == \"Support Vector Machine\":\n",
    "        model.fit(X)\n",
    "        y_pred = model.predict(X)\n",
    "        \n",
    "    else:\n",
    "        print(\"Model Does Not Exist\")\n",
    "        \n",
    "    #Reshape the prediction values to 0 for Valid transactions , 1 for Fraud transactions\n",
    "    y_pred[y_pred == 1] = 0\n",
    "    y_pred[y_pred == -1] = 1\n",
    "    n_errors = (y_pred != y).sum()\n",
    "\n",
    "    # Run Classification Metrics\n",
    "    print(\"{}: {}\".format(Key,n_errors))\n",
    "    print(\"Accuracy Score :\")\n",
    "    print(accuracy_score(y,y_pred))\n",
    "    print(\"Classification Report :\")\n",
    "    print(classification_report(y,y_pred))"
   ]
  },
  {
   "cell_type": "code",
   "execution_count": null,
   "id": "859923fc",
   "metadata": {},
   "outputs": [],
   "source": []
  }
 ],
 "metadata": {
  "kernelspec": {
   "display_name": "Python 3 (ipykernel)",
   "language": "python",
   "name": "python3"
  },
  "language_info": {
   "codemirror_mode": {
    "name": "ipython",
    "version": 3
   },
   "file_extension": ".py",
   "mimetype": "text/x-python",
   "name": "python",
   "nbconvert_exporter": "python",
   "pygments_lexer": "ipython3",
   "version": "3.9.12"
  }
 },
 "nbformat": 4,
 "nbformat_minor": 5
}
