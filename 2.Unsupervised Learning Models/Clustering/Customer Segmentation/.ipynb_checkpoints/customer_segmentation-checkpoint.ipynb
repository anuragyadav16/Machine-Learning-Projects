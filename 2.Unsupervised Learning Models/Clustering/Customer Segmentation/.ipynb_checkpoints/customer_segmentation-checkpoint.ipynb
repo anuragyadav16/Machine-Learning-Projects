{
 "cells": [
  {
   "cell_type": "markdown",
   "metadata": {},
   "source": [
    "# Introduction\n",
    "***\n",
    "\n",
    "Welcome to my retail customer segmentation project! We are going to analyze the data from the customers of a retail company, and try to understand the behaviour of their customers. Hopefully, we'll find lot of insights to help the company on how to plan their next campaigns, who would be the target of a new product, what are the most important customers, etc.\n",
    "\n",
    "The original dataset, that can be found in  <a href=\"https://www.kaggle.com/datasets/imakash3011/customer-personality-analysis\"> this kaggle dataset</a>. It contains information of 2240 customers, with 29 attributes each. These attributes are: \n",
    " \n",
    "**People**\n",
    "- ID: Customer's unique identifier\n",
    "- Year_Birth: Customer's birth year\n",
    "- Education: Customer's education level\n",
    "- Marital_Status: Customer's marital status\n",
    "- Income: Customer's yearly household income\n",
    "- Kidhome: Number of children in customer's household\n",
    "- Teenhome: Number of teenagers in customer's household\n",
    "- Dt_Customer: Date of customer's enrollment with the company\n",
    "- Recency: Number of days since customer's last purchase\n",
    "- Complain: 1 if the customer complained in the last 2 years, 0 otherwise\n",
    "\n",
    "**Products**\n",
    "\n",
    "- MntWines: Amount spent on wine in last 2 years\n",
    "- MntFruits: Amount spent on fruits in last 2 years\n",
    "- MntMeatProducts: Amount spent on meat in last 2 years\n",
    "- MntFishProducts: Amount spent on fish in last 2 years\n",
    "- MntSweetProducts: Amount spent on sweets in last 2 years\n",
    "- MntGoldProds: Amount spent on gold in last 2 years\n",
    "\n",
    "**Promotion**\n",
    "\n",
    "- NumDealsPurchases: Number of purchases made with a discount\n",
    "- AcceptedCmp1: 1 if customer accepted the offer in the 1st campaign, 0 otherwise\n",
    "- AcceptedCmp2: 1 if customer accepted the offer in the 2nd campaign, 0 otherwise\n",
    "- AcceptedCmp3: 1 if customer accepted the offer in the 3rd campaign, 0 otherwise\n",
    "- AcceptedCmp4: 1 if customer accepted the offer in the 4th campaign, 0 otherwise\n",
    "- AcceptedCmp5: 1 if customer accepted the offer in the 5th campaign, 0 otherwise\n",
    "- Response: 1 if customer accepted the offer in the last campaign, 0 otherwise\n",
    "\n",
    "**Place**\n",
    "\n",
    "- NumWebPurchases: Number of purchases made through the company’s website\n",
    "- NumCatalogPurchases: Number of purchases made using a catalogue\n",
    "- NumStorePurchases: Number of purchases made directly in stores\n",
    "- NumWebVisitsMonth: Number of visits to company’s website in the last month"
   ]
  },
  {
   "cell_type": "markdown",
   "metadata": {},
   "source": [
    "## Imports\n",
    "***"
   ]
  },
  {
   "cell_type": "code",
   "execution_count": 1,
   "metadata": {},
   "outputs": [],
   "source": [
    "### Imports\n",
    "import pandas as pd\n",
    "import numpy as np\n",
    "from datetime import datetime\n",
    "\n",
    "import seaborn as sns\n",
    "import matplotlib.pyplot as plt\n",
    "\n",
    "from sklearn.preprocessing import StandardScaler\n",
    "from sklearn.decomposition import PCA\n",
    "from sklearn.metrics import silhouette_score \n",
    "from sklearn.cluster import KMeans\n",
    "\n",
    "%matplotlib inline"
   ]
  },
  {
   "cell_type": "code",
   "execution_count": null,
   "metadata": {},
   "outputs": [],
   "source": [
    "## Reading the data\n",
    "df = pd.read_csv('marketing_campaign.csv', sep = '\\t')\n",
    "\n",
    "## Renaming columns\n",
    "df.columns = ['customer_id','year_birth', 'education','marital_status','income', 'kid_home','teen_home','dt_customer','recency', 'mnt_wines', 'mnt_fruits','mnt_meat', 'mnt_fish','mtn_sweet','mnt_gold','num_deals_purchases','num_web_purchases','num_catalog_purchases','num_store_purchases','num_web_visits_month','accepted_cpm3','accepted_cpm4', 'accepted_cpm5', 'accepted_cpm1', 'accepted_cpm2', 'conplain','z_cost_contact', 'z_revenue', 'response']\n",
    "\n",
    "## Basic info of the dataset\n",
    "display(df.head(10))\n",
    "display(df.shape)"
   ]
  },
  {
   "cell_type": "markdown",
   "metadata": {},
   "source": [
    "## Cleaning Data + Feature Engineering \n",
    "***\n",
    "\n",
    "We are going to create new features to the dataset, remove outliers, clean nulls, and change some categorical data."
   ]
  },
  {
   "cell_type": "code",
   "execution_count": null,
   "metadata": {},
   "outputs": [],
   "source": [
    "## Fill null values with the mean\n",
    "display(df.isnull().sum())\n",
    "\n",
    "df = df.fillna(df['income'].mean())\n",
    "\n",
    "assert (df.isnull().sum().sum() == 0)"
   ]
  },
  {
   "cell_type": "code",
   "execution_count": null,
   "metadata": {},
   "outputs": [],
   "source": [
    "# Feature engineering: Creating new, useful features\n",
    "\n",
    "# Create a feature with the total spent for the client\n",
    "df['total_spent'] = df['mnt_wines']  + df['mnt_fruits'] + df['mnt_meat'] + df['mnt_fish'] + df['mtn_sweet'] + df['mnt_gold']\n",
    "\n",
    "# Create a feature with the % of money spent on essential item (food-related) \n",
    "df['pct_essentials'] = (df['mnt_fruits'] + df['mnt_meat'] + df['mnt_fish'] + df['mtn_sweet'])/df['total_spent']\n",
    "\n",
    "# Create a feature with the number of purchases for each client\n",
    "df['num_purchases'] = df['num_web_purchases']+df['num_catalog_purchases'] + df['num_store_purchases']+df['num_web_visits_month']\n",
    "\n",
    "# Create a feature with the number of children\n",
    "df['num_children'] = df['kid_home'] + df['teen_home']\n",
    "\n",
    "# Create a feature with the percentage of purchases made with a discount\n",
    "df['pct_purchases_with_discount'] = df['num_deals_purchases'] / df['num_purchases']\n",
    "df['pct_purchases_with_discount'].fillna(0, inplace=True)\n",
    "\n",
    "# Create a feature with the age of the client, and another with the number of days since he's enrolled with the company\n",
    "df['dt_customer'] = pd.to_datetime(df['dt_customer'])\n",
    "\n",
    "df['days_since_enrollment'] = ((datetime(2015,1,1) - df['dt_customer']).dt.days)\n",
    "\n",
    "df['age'] =  2015 - df['year_birth']"
   ]
  },
  {
   "cell_type": "code",
   "execution_count": null,
   "metadata": {},
   "outputs": [],
   "source": [
    "# Group some categories that have a similar meaning \n",
    "df['relationship'] = df['marital_status'].replace({'Married':1,'Together':1,\n",
    "                            'Single':0, 'Divorced':0, 'Widow':0, 'Alone':0, 'Absurd':0,'YOLO':0})\n",
    "\n",
    "df[\"education\"] = df[\"education\"].replace({'Basic':'Undergraduate', '2n Cycle':'Undergraduate', \n",
    "                                           'Graduation':'Graduated', 'Master':'Postgraduate', 'PhD':'Postgraduate'})"
   ]
  },
  {
   "cell_type": "code",
   "execution_count": null,
   "metadata": {},
   "outputs": [],
   "source": [
    "## Removing outliers\n",
    "df = df[(df['age'] < 90) & (df['income'] < 200000)].reset_index(drop = True)\n",
    "\n",
    "print(\"The new dataset have {} rows.\".format(df.shape[0]))"
   ]
  },
  {
   "cell_type": "code",
   "execution_count": null,
   "metadata": {},
   "outputs": [],
   "source": [
    "## Since there are just 2 values with 0 purchases and both of them with a low total spent, we'll replace the 0's with 1's.\n",
    "df.loc[(df['num_purchases'] == 0,'num_purchases')]=1"
   ]
  },
  {
   "cell_type": "code",
   "execution_count": null,
   "metadata": {},
   "outputs": [],
   "source": [
    "## Let's check the relationship between the \"offers accepted\", and the \"percentual of purchases with discount\"\n",
    "df['accepted_sum'] = df['accepted_cpm3']+df['accepted_cpm4']+ df['accepted_cpm5'] + df['accepted_cpm1'] +df['accepted_cpm2']\n",
    "plt.figure(figsize = (12,8))\n",
    "plt.title('Percentual of purchases with discount vs number of offers accepted', fontweight = 'bold')\n",
    "sns.boxplot(data = df, x = 'accepted_sum', y = 'pct_purchases_with_discount')\n",
    "plt.xlabel('Offers Accepted')\n",
    "plt.ylabel('Percentual of Purchases with Discount');"
   ]
  },
  {
   "cell_type": "markdown",
   "metadata": {},
   "source": [
    "That's really not what we expected: they have an opposite correlation, which doesn't make sense. I'm not going to use these \"accepted~\" features, because of this incongruence, and because it's not really clear how they work: The description is: \"1 if customer accepted the offer in the nst campaign, 0 otherwise\". But what happens if the customer didn't receive all the offers (only received 3 of them, for example)? How can we garantee that he saw that offers? What if he received more than 5 offers? Since this features are confusing, I'll not use them, and use the \"pct_purchases_with_discount\" instead, that will give a similar idea, in a more straightfoward way."
   ]
  },
  {
   "cell_type": "code",
   "execution_count": null,
   "metadata": {},
   "outputs": [],
   "source": [
    "### Droping columns: Since we are going to use perform clusterization ahead, it's important that we only keep the \n",
    "### most important features, since we don't want the clusters to be created based on attributes that \n",
    "### are not that important to us\n",
    "\n",
    "\n",
    "\n",
    "df = df.drop(['num_web_visits_month','recency', 'conplain', 'response', 'customer_id','dt_customer',\n",
    "              'year_birth','kid_home','teen_home','mnt_wines', 'mnt_fruits','mnt_meat', 'mnt_fish', \n",
    "              'mtn_sweet', 'mnt_gold', 'num_web_purchases', 'num_catalog_purchases', 'num_store_purchases',\n",
    "              'z_cost_contact','z_revenue', 'accepted_cpm3','accepted_cpm4', 'accepted_cpm5', 'accepted_cpm1',\n",
    "              'accepted_cpm2', 'marital_status', 'accepted_sum'], axis = 1)\n"
   ]
  },
  {
   "cell_type": "code",
   "execution_count": null,
   "metadata": {
    "scrolled": false
   },
   "outputs": [],
   "source": [
    "## Purchase behaviour vs Education\n",
    "plt.figure(figsize = (8,5))\n",
    "plt.title(\"Education vs Income\", fontweight = 'bold', fontsize = 12)\n",
    "sns.boxplot(y = df['income'] , x = df['education'], linewidth = 2)\n",
    "plt.xlabel(\"\")\n",
    "plt.show()\n",
    "\n",
    "plt.figure(figsize = (8,5))\n",
    "plt.title(\"Education vs Total Spent\", fontweight = 'bold', fontsize = 12)\n",
    "sns.boxplot(y = df['total_spent'] , x = df['education'], linewidth = 2)\n",
    "plt.xlabel(\"\")\n",
    "plt.show()\n",
    "\n",
    "plt.figure(figsize = (8,5))\n",
    "plt.title(\"Education vs Number of Purchases\", fontweight = 'bold', fontsize = 12)\n",
    "sns.boxplot(y = df['num_purchases'] , x = df['education'], linewidth = 2)\n",
    "plt.xlabel(\"\")\n",
    "plt.show()"
   ]
  },
  {
   "cell_type": "markdown",
   "metadata": {},
   "source": [
    "Looking at the purchase behaviour, it's fair to say that graduates and postgraduates have a very similar behaviour. Therefore, we'll put them in the same category."
   ]
  },
  {
   "cell_type": "code",
   "execution_count": null,
   "metadata": {},
   "outputs": [],
   "source": [
    "df[\"education\"] = df[\"education\"].replace({'Graduated':'Postgraduate'})\n",
    "df['education'] = df['education'].replace({\"Postgraduate\": 1})\n",
    "df['education'] = df['education'].replace({\"Undergraduate\": 0})\n",
    "df.rename(columns={'education': 'high_education'}, inplace = True)"
   ]
  },
  {
   "cell_type": "markdown",
   "metadata": {},
   "source": [
    "## Exploratory Data Analysis\n",
    "***\n",
    "\n",
    "Let's take a closer look at our remaining features, their distributions, and how they relate to each other."
   ]
  },
  {
   "cell_type": "code",
   "execution_count": null,
   "metadata": {},
   "outputs": [],
   "source": [
    "# Some descriptive statistics\n",
    "df.describe()"
   ]
  },
  {
   "cell_type": "code",
   "execution_count": null,
   "metadata": {},
   "outputs": [],
   "source": [
    "## We'll create an auxiliar column, to help us with the visualization. It will be deleted afterwards.\n",
    "df['age_group'] = df['age']//10*10\n",
    "\n",
    "cat_columns = ['high_education','num_children', 'relationship', 'age_group']\n",
    "num_columns = ['income', 'num_deals_purchases','total_spent','num_purchases', \n",
    "       'pct_purchases_with_discount', 'days_since_enrollment', 'pct_essentials']"
   ]
  },
  {
   "cell_type": "code",
   "execution_count": null,
   "metadata": {
    "scrolled": false
   },
   "outputs": [],
   "source": [
    "'''Categorical distributions (even though num_children and age_group are numerical variables,\n",
    "for practical effects it makes a lot of sense to make their visualization as categorical)\n",
    "'''\n",
    "\n",
    "for cat in cat_columns:\n",
    "    plt.figure(figsize = (8,4))\n",
    "    plt.title(str.upper(cat), fontweight = 'bold')\n",
    "    aux = df.groupby(cat).size().reset_index()#.rename({'pct_essentials':'count'}, axis = 1)\n",
    "    ax = sns.barplot(x=cat, data=aux, y = 0, linewidth=2, edgecolor=\".2\").set(ylabel=\"Count\", xlabel = None)\n",
    "    \n",
    "    plt.show()"
   ]
  },
  {
   "cell_type": "markdown",
   "metadata": {},
   "source": [
    "Most of our customers:\n",
    "- Are in a relationship\n",
    "- Have a high_education (graduated or more)\n",
    "- Have 1 children\n",
    "- Are between 30~60 years"
   ]
  },
  {
   "cell_type": "code",
   "execution_count": null,
   "metadata": {
    "scrolled": false
   },
   "outputs": [],
   "source": [
    "## Distribution of numerical variable\n",
    "\n",
    "for num in num_columns:\n",
    "    plt.figure(figsize = (8,5))\n",
    "    plt.title(str.upper(num), fontweight = 'bold')\n",
    "    ax = sns.histplot(x=num, data=df)\n",
    "    ax.set_xlabel(\" \")\n",
    "    plt.show()"
   ]
  },
  {
   "cell_type": "code",
   "execution_count": null,
   "metadata": {},
   "outputs": [],
   "source": [
    "## Correlation Matrix\n",
    "corr= df.corr()\n",
    "\n",
    "# Getting the Upper Triangle of the co-relation matrix\n",
    "matrix = np.triu(corr)\n",
    "\n",
    "fig = plt.figure(figsize=(12,8))\n",
    "plt.title('Correlation between features', fontsize = 16, fontweight = 'bold')\n",
    "sns.heatmap(round(df.corr(),3), annot=True, cmap=\"RdBu\", mask = matrix);"
   ]
  },
  {
   "cell_type": "markdown",
   "metadata": {},
   "source": [
    "Based on the correlation matrix, we can see a lot of variables that have a strong relationship. Let's take a closer look:"
   ]
  },
  {
   "cell_type": "code",
   "execution_count": null,
   "metadata": {
    "scrolled": false
   },
   "outputs": [],
   "source": [
    "plt.figure(figsize = (10,6))\n",
    "plt.title(\"Total Money Spent vs Number of Children\", fontweight = 'bold')\n",
    "sns.boxplot(data = df, y = 'total_spent', x = 'num_children', linewidth = 2)# interessante\n",
    "plt.show()\n",
    "\n",
    "plt.figure(figsize = (10,6))\n",
    "plt.title(\"% of purchases with discount vs Number of Children\", fontweight = 'bold')\n",
    "sns.boxplot(data = df, y = 'pct_purchases_with_discount', x = 'num_children', linewidth = 2)\n",
    "plt.show()\n",
    "\n",
    "plt.figure(figsize = (10,6))\n",
    "plt.title(\"% of Money Spent on essentials vs Numbers of children\", fontweight = 'bold')\n",
    "sns.boxplot(data = df, y = 'pct_essentials', x = 'num_children', linewidth = 2) ### esquisito\n",
    "plt.show()\n",
    "\n",
    "\n",
    "plt.figure(figsize = (10,6))\n",
    "plt.title(\"% of purchases with discount vs Age Group\", fontweight = 'bold')\n",
    "sns.boxplot(data = df, y = 'pct_purchases_with_discount', x = 'age_group', linewidth = 2)\n",
    "plt.show()\n",
    "\n",
    "plt.figure(figsize = (10,6))\n",
    "plt.title(\"Income vs Age Group\", fontweight = 'bold')\n",
    "sns.boxplot(data = df, y = 'income', x = 'age_group', linewidth = 2)\n",
    "plt.show()\n",
    "\n",
    "\n",
    "plt.figure(figsize = (10,6))\n",
    "plt.title(\"Total Spent vs Age Group\", fontweight = 'bold')\n",
    "sns.boxplot(data = df, y = 'total_spent', x = 'age_group', linewidth = 2)\n",
    "plt.show()\n",
    "\n",
    "plt.figure(figsize = (10,6))\n",
    "plt.title(\"% of Essential items vs Age\", fontweight = 'bold')\n",
    "sns.boxplot(data = df, y = 'pct_essentials', x = 'age_group', linewidth = 2)# interessante\n",
    "plt.show()\n",
    "\n",
    "plt.figure(figsize = (10,6))\n",
    "plt.title(\"% of Essential items vs Education\", fontweight = 'bold')\n",
    "sns.boxplot(data = df, y = 'pct_essentials', x = 'high_education', linewidth = 2)# interessante\n",
    "plt.show()\n",
    "\n",
    "plt.figure(figsize = (10,6))\n",
    "plt.title(\"Income vs Number of Purchases\", fontweight = 'bold')\n",
    "sns.scatterplot(data = df, x = 'income', y = 'num_purchases', color = 'green')\n",
    "plt.show()\n",
    "\n",
    "plt.figure(figsize = (10,6))\n",
    "plt.title(\"Income vs Total Money Spent\", fontweight = 'bold')\n",
    "sns.scatterplot(data = df, x = 'income', y = 'total_spent', color = 'darkred')\n",
    "plt.show()\n",
    "\n",
    "plt.figure(figsize = (10,6))\n",
    "plt.title(\"Income vs % of purchases with discount\", fontweight = 'bold')\n",
    "sns.scatterplot(data = df, x = 'income', y = 'pct_purchases_with_discount')\n",
    "plt.show()\n",
    "\n",
    "\n",
    "df = df.drop(['age_group', 'days_since_enrollment'], axis = 1)"
   ]
  },
  {
   "cell_type": "markdown",
   "metadata": {},
   "source": [
    "From the visualizations, we can see some things:\n",
    "\n",
    "- People with no children: Spend less money, are less inclined to wait for discounts to buy their items and spend more money on essential items (fruits, fish, meat, sweet).\n",
    "\n",
    "- Older people have a higher income\n",
    "- People with higher income spend more money, and are less inclined to wait for discounts to buy their items.\n",
    "\n",
    "\n",
    "\n",
    "\n",
    "## Clustering\n",
    "---\n",
    "### Standard Scaler\n",
    "\n",
    "Some of the transformations on our data (PCA and Clustering) will envolve measuring distances. That can be problematic, considering that some features have very different ranges. We need to use the StandardScaler, so they can all have a similar range (mostly between -1 to 1)."
   ]
  },
  {
   "cell_type": "code",
   "execution_count": null,
   "metadata": {},
   "outputs": [],
   "source": [
    "### Standardization\n",
    "sc = StandardScaler()\n",
    "df_scaled = pd.DataFrame(sc.fit_transform(df), columns = df.columns)\n",
    "display(df_scaled[:5].T)"
   ]
  },
  {
   "cell_type": "markdown",
   "metadata": {},
   "source": [
    "### Principal Components Analysis (PCA)\n",
    "\n",
    "\n",
    "In our dataset, we have a high number of features and a lot of them have a certain level of correlation between each other, and are somewhat redundant. Performing a dimensionality reduction technique is a good option to reduce the number of features, decreasing the computation cost of the algorithm, while maintaining a good amount of information from the original dataset. \n",
    "\n",
    "This step is not mandatory, and is not really clear whether to use PCA before clustering really gives us better results. That is particularly tricky, since clustering is a non-supervisioned algorithm, which makes it harder to assess its performance. \n",
    "\n",
    "Now, performing the PCA, we need to determine how many principal components we'll need to maintain about 70%~80% of variance of the original data. "
   ]
  },
  {
   "cell_type": "code",
   "execution_count": null,
   "metadata": {},
   "outputs": [],
   "source": [
    "## Determining the number of principal components\n",
    "\n",
    "variance_ratio = {}\n",
    "for i in range(1, len(df_scaled.columns)+1):\n",
    "    pca = PCA(n_components=i)\n",
    "    pca.fit(df_scaled)\n",
    "    variance_ratio[f'n_{i}'] = pca.explained_variance_ratio_.sum()*100\n",
    "    \n",
    "plt.figure(figsize = (10, 5))\n",
    "plt.plot(variance_ratio.keys(), variance_ratio.values(), color = 'darkred')\n",
    "plt.axhline(70, color = 'gray', ls = '--', lw = 1)\n",
    "plt.title(\"Variance Ratio (%) vs Number of Principal Components\", fontsize = 14, fontweight = 'bold')\n",
    "plt.ylabel(\"variance ratio (%)\", fontsize = 12)\n",
    "plt.xlabel(\"number of principal components\", fontsize = 12)\n",
    "plt.ylim([0, 120])\n",
    "plt.show()"
   ]
  },
  {
   "cell_type": "markdown",
   "metadata": {},
   "source": [
    "With 4 principal components, we have almost 70% of the variance explained. That's a good result."
   ]
  },
  {
   "cell_type": "code",
   "execution_count": null,
   "metadata": {},
   "outputs": [],
   "source": [
    "## Applying PCA to create a new dataset with 4 Princpal Components.\n",
    "\n",
    "pca = PCA(n_components = 4, random_state = 123)\n",
    "pca.fit(df_scaled)\n",
    "df_pca = pd.DataFrame(pca.transform(df_scaled),\n",
    "                      columns = ([\"PC1\", \"PC2\", \"PC3\", \"PC4\"]))\n",
    "df_pca.head(10)"
   ]
  },
  {
   "cell_type": "markdown",
   "metadata": {},
   "source": [
    "Now we have a new dataset with the 4 principal components. In the next step, we are going to apply the k-means on this new dataset."
   ]
  },
  {
   "cell_type": "markdown",
   "metadata": {},
   "source": [
    "## K-Means\n",
    "\n",
    "We are going to use the k-means algorithm to create our clusters. First, we'll need to determine the ideal number of clusters. We are going to to that by comparing two techniques: the elbow method and the silhouette score. \n",
    "\n",
    "In the elbow method, we plot the WCSS vs the number of clusters. The WCSS is the sum of squared distance between each point and the centroid in a cluster. Naturally, as we increase the number of clusters, this value will always get smaller. \n",
    "\n",
    "What we are looking for is a value of N that, from that point forward, the decrease of WCSS won't be very significative."
   ]
  },
  {
   "cell_type": "code",
   "execution_count": null,
   "metadata": {
    "scrolled": false
   },
   "outputs": [],
   "source": [
    "## Determining the ideal number of clusters: Elbow method\n",
    "wcss=[]\n",
    "for i in range (1,11):\n",
    "    kmeans=KMeans(n_clusters=i,init='k-means++',random_state=123)\n",
    "    kmeans.fit(df_pca)\n",
    "    wcss.append(kmeans.inertia_)\n",
    "    \n",
    "plt.figure(figsize=(10,6))\n",
    "plt.plot(range(1,11), wcss, marker='o', color = 'tab:orange')\n",
    "plt.title('Elbow Method', fontsize = 14, fontweight = 'bold')\n",
    "plt.xlabel('number of clusters')\n",
    "plt.ylabel('WCSS')\n",
    "plt.show()"
   ]
  },
  {
   "cell_type": "markdown",
   "metadata": {},
   "source": [
    "Taking a look at the curve, it's not really clear what is the ideal number of clusters. Let's double check it with the silhouette scores. From wikipedia: *The silhouette value is a measure of how similar an object is to its own cluster (cohesion) compared to other clusters (separation).*"
   ]
  },
  {
   "cell_type": "code",
   "execution_count": null,
   "metadata": {},
   "outputs": [],
   "source": [
    "silhouette_scores = []\n",
    "\n",
    "for i in range(2,10):\n",
    "    m1 = KMeans(n_clusters=i, random_state=123)\n",
    "    c = m1.fit_predict(df_pca)\n",
    "    silhouette_scores.append(silhouette_score(df_pca, m1.fit_predict(df_pca)))\n",
    "\n",
    "plt.figure(figsize = (8,5))\n",
    "plt.bar(range(2,10), silhouette_scores, color = 'darkgreen')\n",
    "plt.title(\"Silhouette Scores vs Number of Clusters\", fontsize = 14, fontweight = 'bold')\n",
    "plt.xlabel('Number of clusters', fontsize = 14) \n",
    "plt.ylabel('Silhouette Scores', fontsize = 14)\n",
    "plt.ylim(0,0.35)\n",
    "for a, b in enumerate(silhouette_scores):\n",
    "    plt.text(a + 1.7, b + 0.005, str(round(b,3)), color='black', fontweight='bold')\n",
    "plt.show()"
   ]
  },
  {
   "cell_type": "markdown",
   "metadata": {},
   "source": [
    "That settles: We are going to use the K-Means with 3 clusters, and add the results to the original dataset."
   ]
  },
  {
   "cell_type": "code",
   "execution_count": null,
   "metadata": {},
   "outputs": [],
   "source": [
    "kmeans = KMeans(n_clusters=3, random_state=123).fit(df_pca)\n",
    "pred = kmeans.predict(df_pca)\n",
    "df['cluster'] = pred + 1\n",
    "df.head()"
   ]
  },
  {
   "cell_type": "markdown",
   "metadata": {},
   "source": [
    "## Analyzing the clusters\n",
    "\n",
    "Now, let's compare the clusters:"
   ]
  },
  {
   "cell_type": "code",
   "execution_count": null,
   "metadata": {},
   "outputs": [],
   "source": [
    "aux = df.cluster.value_counts()/len(df.count())\n",
    "plt.title('Number of Customers per Cluster', fontweight = 'bold')\n",
    "aux = df.groupby('cluster').size().reset_index()#.rename({'pct_essentials':'count'}, axis = 1)\n",
    "ax = sns.barplot(x='cluster', data=aux, y = 0, linewidth=2, edgecolor=\".2\",  palette = 'Set1').set(ylabel=\"Count\", xlabel = None)"
   ]
  },
  {
   "cell_type": "code",
   "execution_count": null,
   "metadata": {},
   "outputs": [],
   "source": [
    "# Creating an auxiliar dataset to help the evaluation\n",
    "clusters_evaluation = df.groupby('cluster').mean().T\n",
    "clusters_evaluation['mean_dataset'] = df.mean().T\n",
    "clusters_evaluation"
   ]
  },
  {
   "cell_type": "code",
   "execution_count": null,
   "metadata": {
    "scrolled": false
   },
   "outputs": [],
   "source": [
    "plt.figure(figsize = (8,8))\n",
    "clusters_evaluation.drop('mean_dataset', axis = 1).style.background_gradient(cmap='RdYlGn',axis=1)"
   ]
  },
  {
   "cell_type": "markdown",
   "metadata": {},
   "source": [
    "From the table above, we can have a good idea of the differences between the clusters. At first glance, we can see that the income is very important to divide the users: In the cluster 1, we have a lot of customers with medium income, the cluster 2 we have people with lower-income, and the 3, with a higher income. \n",
    "\n",
    "Let's make some more visualizations, to get some more insights."
   ]
  },
  {
   "cell_type": "code",
   "execution_count": null,
   "metadata": {},
   "outputs": [],
   "source": [
    "## Categorical Visualizations\n",
    "\n",
    "cat_columns = ['high_education','num_children', 'relationship']\n",
    "num_columns = ['income','total_spent','num_purchases', \n",
    "       'pct_purchases_with_discount', 'age', 'pct_essentials']\n",
    "\n",
    "for cat in cat_columns:\n",
    "    plt.figure(figsize = (8,5))\n",
    "    plt.title(str.upper(cat), fontweight = 'bold')\n",
    "    df_aux = df.groupby('cluster')[cat].value_counts(normalize=True).mul(100).rename('percent').reset_index()\n",
    "    sns.barplot(data = df_aux, x='cluster',y='percent',hue=cat, palette = 'Paired',linewidth=2, edgecolor=\".2\");\n",
    "    plt.show()    "
   ]
  },
  {
   "cell_type": "markdown",
   "metadata": {},
   "source": [
    "**Notes:**\n",
    "\n",
    "- Most of the users without high-education falls into the cluster 2\n",
    "- Pretty much everyone of the cluster 1 have at least 1 children.\n",
    "- Pretty much everyone of the cluster 3 have 0 or 1 children"
   ]
  },
  {
   "cell_type": "code",
   "execution_count": null,
   "metadata": {
    "scrolled": false
   },
   "outputs": [],
   "source": [
    "## Numerical Variables\n",
    "\n",
    "for num in num_columns:\n",
    "    plt.figure(figsize = (8,5))\n",
    "    plt.title(str.upper(num), fontweight = 'bold')\n",
    "    ax = sns.boxplot(y=num, x = 'cluster', data=df, palette = 'Set1', linewidth = 2)#.set(ylabel=\"Count\", xlabel = None)\n",
    "    plt.show()"
   ]
  },
  {
   "cell_type": "markdown",
   "metadata": {},
   "source": [
    "#### Notes:\n",
    "\n",
    "##### <ins>Income:<ins>\n",
    "- 1: High Income \n",
    "- 2: Low Income\n",
    "- 3: Medium Income\n",
    "\n",
    "#### <ins>Total Spent:<ins> \n",
    "- 1: high spent\n",
    "- 2: low spent\n",
    "- 3: medium spent\n",
    "\n",
    "#### <ins>Percentage of Items bought with discount:<ins>\n",
    "- 3: Buys a lot of items with discount\n",
    "- 1: Buys a lot of items without discount\n",
    "\n",
    "#### <ins>Percentage of essential items bought:<ins>\n",
    "- 3: Buys a lot of non-essential items (wine + gold)\n",
    "\n",
    "#### <ins>Age:<ins>\n",
    "- 2: Are considerably younger than the rest "
   ]
  },
  {
   "cell_type": "markdown",
   "metadata": {},
   "source": [
    "\n",
    "    \n",
    "Other important visualizations:"
   ]
  },
  {
   "cell_type": "code",
   "execution_count": null,
   "metadata": {},
   "outputs": [],
   "source": [
    "plt.figure(figsize = (9,5))\n",
    "plt.title('Percentage of items with discount vs Income', fontweight = 'bold')\n",
    "sns.scatterplot(data = df, x = 'income', y = 'pct_purchases_with_discount', hue = 'cluster', palette = 'Set1')\n",
    "plt.show()\n",
    "\n",
    "plt.figure(figsize = (9,5))\n",
    "plt.title('Percentage of essential items bought vs Income', fontweight = 'bold')\n",
    "sns.scatterplot(data = df, x = 'income', y = 'pct_essentials', hue = 'cluster', palette = 'Set1')\n",
    "plt.show()\n",
    "\n",
    "plt.figure(figsize = (9,5))\n",
    "plt.title('Number of purchases vs Income', fontweight = 'bold')\n",
    "sns.scatterplot(data = df, x = 'income', y = 'num_purchases', hue = 'cluster', palette = 'Set1')\n",
    "plt.show()\n",
    "\n",
    "plt.figure(figsize = (9,5))\n",
    "plt.title('Total Money Spent vs Income', fontweight = 'bold')\n",
    "sns.scatterplot(data = df, x = 'income', y = 'total_spent', hue = 'cluster', palette = 'Set1')\n",
    "plt.show()"
   ]
  },
  {
   "cell_type": "markdown",
   "metadata": {},
   "source": [
    "## Conclusions:\n",
    "***\n",
    "\n",
    "\n",
    "### Cluster 1:\n",
    "\n",
    "\n",
    "- About 36% of the customers\n",
    "- High income group\n",
    "- Almost everybody have 0 or 1 children.\n",
    "- Spend a lot of money\n",
    "- Don't buy a lot of things with discount\n",
    "\n",
    "\n",
    "### Cluster 2:\n",
    "\n",
    "- Bigger cluster (about 44%)\n",
    "- Smaller income group\n",
    "- Don't spend a lot of money\n",
    "- Don't make a lot opf\n",
    "- Contains most of the people without a high-education\n",
    "- Is a little younger than the average of the dataset\n",
    "\n",
    "### Cluster 3:\n",
    "\n",
    "- Smaller part of the customers (about 20%)\n",
    "- Medium income group\n",
    "- Everyone have at least 1 children\n",
    "- Are very sensitive to items with discount\n",
    "- Usually buys non-essential items (wine + gold)\n",
    "\n",
    "\n",
    "From this clusters, we are a step closer to understand our customers behaviour. The more actionable information is that relation between the customers and the % of items bought with discount:\n",
    "\n",
    "- We could see that people in the cluster 3 buys a lot of non-essential items, and are very sensitive to discount. \n",
    "- On the other hand, people in the cluster 1 doesn't respond very well to discounts.\n",
    "\n",
    "Therefore, it **might be a good idea to concentrate efforts to send special offers to the people in the cluster 3 (and don't send to cluster 1).**"
   ]
  }
 ],
 "metadata": {
  "kernelspec": {
   "display_name": "Python 3 (ipykernel)",
   "language": "python",
   "name": "python3"
  },
  "language_info": {
   "codemirror_mode": {
    "name": "ipython",
    "version": 3
   },
   "file_extension": ".py",
   "mimetype": "text/x-python",
   "name": "python",
   "nbconvert_exporter": "python",
   "pygments_lexer": "ipython3",
   "version": "3.9.12"
  }
 },
 "nbformat": 4,
 "nbformat_minor": 4
}
